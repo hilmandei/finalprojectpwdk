{
 "cells": [
  {
   "cell_type": "markdown",
   "metadata": {},
   "source": [
    "# General Information\n",
    "\n",
    "\n",
    "This dataset was collected by the Author from car sale advertisements for study/practice purposes in 2016. Though there is couple well known car features datasets they seems quite simple and outdated. Car topic is really interesting. But I wanted to practice with real raw data which has all inconvenient moments (as NA’s for example).\n",
    "\n",
    "This dataset contains data for more than 9.5K cars sale in Ukraine. Most of them are used cars so it opens the possibility to analyze features related to car operation. At the end of the day I look at this data as a subset from all Ukrainian car fleet.\n",
    "\n",
    "==============================================================================================================================\n",
    "\n",
    "Dataset contains 9576 rows and 10 variables with essential meanings:\n",
    "\n",
    "    - car: manufacturer brand\n",
    "    - price: seller’s price in advertisement (in USD)\n",
    "    - body: car body type\n",
    "    - mileage: as mentioned in advertisement (‘000 Km)\n",
    "    - engV: rounded engine volume (‘000 cubic cm)\n",
    "    - engType: type of fuel (“Other” in this case should be treated as NA)\n",
    "    - registration: whether car registered in Ukraine or not\n",
    "    - year: year of production\n",
    "    - model: specific model name\n",
    "    - drive: drive type\n",
    "    \n",
    "Data has gaps, so be careful and check for NA’s. I tried to check and drop repeated offers, but theoretically duplications are possible.\n",
    "\n",
    "============================================================================================================================\n",
    "source :\n",
    "https://www.kaggle.com/antfarol/car-sale-advertisements\n",
    "\n",
    "============================================================================================================================\n",
    "(Scope and Limitation)\n",
    "- this price is based on 2016.\n",
    "- there is no depreciation/inflation effect of the price."
   ]
  },
  {
   "cell_type": "code",
   "execution_count": 1,
   "metadata": {},
   "outputs": [
    {
     "name": "stdout",
     "output_type": "stream",
     "text": [
      "Index(['car', 'price', 'body', 'mileage', 'engV', 'engType', 'registration',\n",
      "       'year', 'model', 'drive'],\n",
      "      dtype='object')\n"
     ]
    },
    {
     "data": {
      "text/html": [
       "<div>\n",
       "<style scoped>\n",
       "    .dataframe tbody tr th:only-of-type {\n",
       "        vertical-align: middle;\n",
       "    }\n",
       "\n",
       "    .dataframe tbody tr th {\n",
       "        vertical-align: top;\n",
       "    }\n",
       "\n",
       "    .dataframe thead th {\n",
       "        text-align: right;\n",
       "    }\n",
       "</style>\n",
       "<table border=\"1\" class=\"dataframe\">\n",
       "  <thead>\n",
       "    <tr style=\"text-align: right;\">\n",
       "      <th></th>\n",
       "      <th>car</th>\n",
       "      <th>price</th>\n",
       "      <th>body</th>\n",
       "      <th>mileage</th>\n",
       "      <th>engV</th>\n",
       "      <th>engType</th>\n",
       "      <th>registration</th>\n",
       "      <th>year</th>\n",
       "      <th>model</th>\n",
       "      <th>drive</th>\n",
       "    </tr>\n",
       "  </thead>\n",
       "  <tbody>\n",
       "    <tr>\n",
       "      <th>0</th>\n",
       "      <td>Ford</td>\n",
       "      <td>15500.0</td>\n",
       "      <td>crossover</td>\n",
       "      <td>68</td>\n",
       "      <td>2.5</td>\n",
       "      <td>Gas</td>\n",
       "      <td>yes</td>\n",
       "      <td>2010</td>\n",
       "      <td>Kuga</td>\n",
       "      <td>full</td>\n",
       "    </tr>\n",
       "    <tr>\n",
       "      <th>1</th>\n",
       "      <td>Mercedes-Benz</td>\n",
       "      <td>20500.0</td>\n",
       "      <td>sedan</td>\n",
       "      <td>173</td>\n",
       "      <td>1.8</td>\n",
       "      <td>Gas</td>\n",
       "      <td>yes</td>\n",
       "      <td>2011</td>\n",
       "      <td>E-Class</td>\n",
       "      <td>rear</td>\n",
       "    </tr>\n",
       "    <tr>\n",
       "      <th>2</th>\n",
       "      <td>Mercedes-Benz</td>\n",
       "      <td>35000.0</td>\n",
       "      <td>other</td>\n",
       "      <td>135</td>\n",
       "      <td>5.5</td>\n",
       "      <td>Petrol</td>\n",
       "      <td>yes</td>\n",
       "      <td>2008</td>\n",
       "      <td>CL 550</td>\n",
       "      <td>rear</td>\n",
       "    </tr>\n",
       "    <tr>\n",
       "      <th>3</th>\n",
       "      <td>Mercedes-Benz</td>\n",
       "      <td>17800.0</td>\n",
       "      <td>van</td>\n",
       "      <td>162</td>\n",
       "      <td>1.8</td>\n",
       "      <td>Diesel</td>\n",
       "      <td>yes</td>\n",
       "      <td>2012</td>\n",
       "      <td>B 180</td>\n",
       "      <td>front</td>\n",
       "    </tr>\n",
       "    <tr>\n",
       "      <th>4</th>\n",
       "      <td>Mercedes-Benz</td>\n",
       "      <td>33000.0</td>\n",
       "      <td>vagon</td>\n",
       "      <td>91</td>\n",
       "      <td>NaN</td>\n",
       "      <td>Other</td>\n",
       "      <td>yes</td>\n",
       "      <td>2013</td>\n",
       "      <td>E-Class</td>\n",
       "      <td>NaN</td>\n",
       "    </tr>\n",
       "  </tbody>\n",
       "</table>\n",
       "</div>"
      ],
      "text/plain": [
       "             car    price       body  mileage  engV engType registration  \\\n",
       "0           Ford  15500.0  crossover       68   2.5     Gas          yes   \n",
       "1  Mercedes-Benz  20500.0      sedan      173   1.8     Gas          yes   \n",
       "2  Mercedes-Benz  35000.0      other      135   5.5  Petrol          yes   \n",
       "3  Mercedes-Benz  17800.0        van      162   1.8  Diesel          yes   \n",
       "4  Mercedes-Benz  33000.0      vagon       91   NaN   Other          yes   \n",
       "\n",
       "   year    model  drive  \n",
       "0  2010     Kuga   full  \n",
       "1  2011  E-Class   rear  \n",
       "2  2008   CL 550   rear  \n",
       "3  2012    B 180  front  \n",
       "4  2013  E-Class    NaN  "
      ]
     },
     "execution_count": 1,
     "metadata": {},
     "output_type": "execute_result"
    }
   ],
   "source": [
    "import pandas as pd\n",
    "import numpy as np\n",
    "import matplotlib.pyplot as plt\n",
    "import seaborn as sns\n",
    "import sys\n",
    "sns.set()\n",
    "\n",
    "\n",
    "\n",
    "df = pd.read_csv('car_ad.csv', encoding= 'latin1')\n",
    "print(df.columns)\n",
    "df.head()"
   ]
  },
  {
   "cell_type": "code",
   "execution_count": 2,
   "metadata": {},
   "outputs": [
    {
     "name": "stdout",
     "output_type": "stream",
     "text": [
      "<class 'pandas.core.frame.DataFrame'>\n",
      "RangeIndex: 9576 entries, 0 to 9575\n",
      "Data columns (total 10 columns):\n",
      "car             9576 non-null object\n",
      "price           9576 non-null float64\n",
      "body            9576 non-null object\n",
      "mileage         9576 non-null int64\n",
      "engV            9142 non-null float64\n",
      "engType         9576 non-null object\n",
      "registration    9576 non-null object\n",
      "year            9576 non-null int64\n",
      "model           9576 non-null object\n",
      "drive           9065 non-null object\n",
      "dtypes: float64(2), int64(2), object(6)\n",
      "memory usage: 748.2+ KB\n",
      "None\n"
     ]
    },
    {
     "data": {
      "text/html": [
       "<div>\n",
       "<style scoped>\n",
       "    .dataframe tbody tr th:only-of-type {\n",
       "        vertical-align: middle;\n",
       "    }\n",
       "\n",
       "    .dataframe tbody tr th {\n",
       "        vertical-align: top;\n",
       "    }\n",
       "\n",
       "    .dataframe thead th {\n",
       "        text-align: right;\n",
       "    }\n",
       "</style>\n",
       "<table border=\"1\" class=\"dataframe\">\n",
       "  <thead>\n",
       "    <tr style=\"text-align: right;\">\n",
       "      <th></th>\n",
       "      <th>price</th>\n",
       "      <th>mileage</th>\n",
       "      <th>engV</th>\n",
       "      <th>year</th>\n",
       "    </tr>\n",
       "  </thead>\n",
       "  <tbody>\n",
       "    <tr>\n",
       "      <th>count</th>\n",
       "      <td>9576.000000</td>\n",
       "      <td>9576.000000</td>\n",
       "      <td>9142.000000</td>\n",
       "      <td>9576.000000</td>\n",
       "    </tr>\n",
       "    <tr>\n",
       "      <th>mean</th>\n",
       "      <td>15633.317316</td>\n",
       "      <td>138.862364</td>\n",
       "      <td>2.646344</td>\n",
       "      <td>2006.605994</td>\n",
       "    </tr>\n",
       "    <tr>\n",
       "      <th>std</th>\n",
       "      <td>24106.523436</td>\n",
       "      <td>98.629754</td>\n",
       "      <td>5.927699</td>\n",
       "      <td>7.067924</td>\n",
       "    </tr>\n",
       "    <tr>\n",
       "      <th>min</th>\n",
       "      <td>0.000000</td>\n",
       "      <td>0.000000</td>\n",
       "      <td>0.100000</td>\n",
       "      <td>1953.000000</td>\n",
       "    </tr>\n",
       "    <tr>\n",
       "      <th>25%</th>\n",
       "      <td>4999.000000</td>\n",
       "      <td>70.000000</td>\n",
       "      <td>1.600000</td>\n",
       "      <td>2004.000000</td>\n",
       "    </tr>\n",
       "    <tr>\n",
       "      <th>50%</th>\n",
       "      <td>9200.000000</td>\n",
       "      <td>128.000000</td>\n",
       "      <td>2.000000</td>\n",
       "      <td>2008.000000</td>\n",
       "    </tr>\n",
       "    <tr>\n",
       "      <th>75%</th>\n",
       "      <td>16700.000000</td>\n",
       "      <td>194.000000</td>\n",
       "      <td>2.500000</td>\n",
       "      <td>2012.000000</td>\n",
       "    </tr>\n",
       "    <tr>\n",
       "      <th>max</th>\n",
       "      <td>547800.000000</td>\n",
       "      <td>999.000000</td>\n",
       "      <td>99.990000</td>\n",
       "      <td>2016.000000</td>\n",
       "    </tr>\n",
       "  </tbody>\n",
       "</table>\n",
       "</div>"
      ],
      "text/plain": [
       "               price      mileage         engV         year\n",
       "count    9576.000000  9576.000000  9142.000000  9576.000000\n",
       "mean    15633.317316   138.862364     2.646344  2006.605994\n",
       "std     24106.523436    98.629754     5.927699     7.067924\n",
       "min         0.000000     0.000000     0.100000  1953.000000\n",
       "25%      4999.000000    70.000000     1.600000  2004.000000\n",
       "50%      9200.000000   128.000000     2.000000  2008.000000\n",
       "75%     16700.000000   194.000000     2.500000  2012.000000\n",
       "max    547800.000000   999.000000    99.990000  2016.000000"
      ]
     },
     "execution_count": 2,
     "metadata": {},
     "output_type": "execute_result"
    }
   ],
   "source": [
    "print(df.info())\n",
    "\n",
    "df.describe()"
   ]
  },
  {
   "cell_type": "code",
   "execution_count": null,
   "metadata": {
    "scrolled": true
   },
   "outputs": [],
   "source": []
  },
  {
   "cell_type": "code",
   "execution_count": 3,
   "metadata": {},
   "outputs": [],
   "source": [
    "def ftcount(feature, n, k):\n",
    "    # function to plot unique value Vs Qty\n",
    "    try:\n",
    "        try:\n",
    "            x1 = df[feature+str(2)].value_counts().index \n",
    "            x = df[feature].value_counts().index\n",
    "            X = x[n:k]\n",
    "            y = df[feature].value_counts()\n",
    "            Y = y.iloc[n:k]\n",
    "\n",
    "            plt.figure(figsize=(15,8))\n",
    "            plt.bar(np.arange(len(X)), Y, width=0.3, color= 'b',  label=f'Qty {feature} Before Cleaning', alpha=0.6)\n",
    "            plt.xticks(rotation='vertical')\n",
    "            plt.legend()\n",
    "\n",
    "            y1 = []\n",
    "            for i in X:\n",
    "                a = df[feature+str(2)][df[feature+str(2)]==i].count()\n",
    "                y1.append(a)\n",
    "\n",
    "            plt.bar(np.arange(len(X))+0.05, y1, width=0.3, color='r', tick_label=X, \n",
    "                    label=f'Qty {feature} After Cleaning', align='edge', alpha=0.8)\n",
    "            \n",
    "            plt.ylabel('Quantity')\n",
    "            plt.xlabel(f'{feature}')\n",
    "            plt.legend()\n",
    "            plt.tight_layout()\n",
    "            plt.show()\n",
    "\n",
    "        except:\n",
    "            if feature == 'price':\n",
    "                x = df[feature].value_counts().sort_index().index\n",
    "                X = x[n:k] \n",
    "                y = df[feature].value_counts().sort_index().values\n",
    "                Y = y[n:k]\n",
    "                plt.figure(figsize=(15,8))\n",
    "                plt.plot(X, Y, 'r.', label='Price')\n",
    "                plt.ylabel('Quantity')\n",
    "                plt.xlabel(f'{feature}')\n",
    "                plt.legend()\n",
    "                plt.tight_layout()\n",
    "                plt.show()\n",
    "                \n",
    "            else:\n",
    "                x = df[feature].value_counts().index\n",
    "                X = x[n:k] \n",
    "                y = df[feature].value_counts()\n",
    "                Y = y.iloc[n:k]\n",
    "\n",
    "                plt.figure(figsize=(15,8))\n",
    "                plt.bar(X, Y, width=0.3, label=f'Qty {feature}')\n",
    "                plt.xticks(X, rotation='vertical')\n",
    "                plt.ylabel('Quantity')\n",
    "                plt.xlabel(f'{feature}')\n",
    "                plt.legend()\n",
    "                plt.tight_layout()\n",
    "                plt.show()\n",
    "    except:\n",
    "        print('Check Parameter Function')\n",
    "        "
   ]
  },
  {
   "cell_type": "code",
   "execution_count": null,
   "metadata": {},
   "outputs": [],
   "source": []
  },
  {
   "cell_type": "code",
   "execution_count": 4,
   "metadata": {},
   "outputs": [],
   "source": [
    "from collections import Counter\n",
    "\n",
    "def ftmean(feature, n, k):\n",
    "    try:\n",
    "        ft2 = df[feature+str(2)].value_counts().index \n",
    "        ft = df[feature].value_counts().index\n",
    "\n",
    "        dictmean = {}\n",
    "        for i in ft:\n",
    "            dictmean[i] = df['price'][df[feature]== i].mean()\n",
    "\n",
    "        c = dict(Counter(dictmean).most_common())\n",
    "        x = list(c.keys())\n",
    "        y = list(c.values())\n",
    "        \n",
    "        X = x[n:k]\n",
    "        Y = y[n:k]\n",
    "      \n",
    "        plt.figure(figsize=(15,8))\n",
    "        plt.bar(np.arange(len(X)), Y, width=0.3, color= 'b', label='Average Price before Cleaning', alpha=0.8)\n",
    "        plt.xticks(rotation='vertical')\n",
    "        plt.legend()\n",
    "\n",
    "        dictmean2 = {}\n",
    "        for i in X:\n",
    "            dictmean2[i] = df['price'][df[feature+str(2)]== i].mean()\n",
    "\n",
    "        c2 = dict(Counter(dictmean2).most_common())\n",
    "        y2 = list(c2.values())\n",
    "     \n",
    "       \n",
    "        plt.bar(np.arange(len(X))+0.05, y2, width=0.3, color= 'r', tick_label= X, label='Average Price after Cleaning', alpha=0.8, align='edge')\n",
    "        plt.xticks(rotation='vertical')\n",
    "        plt.ylabel('Average Price USD')\n",
    "        plt.xlabel(f'{feature}')\n",
    "        plt.legend()\n",
    "        \n",
    "        plt.tight_layout()\n",
    "        plt.show()\n",
    "\n",
    "    except:\n",
    "        ft = df[feature].value_counts().index\n",
    "\n",
    "        dictmean = {}\n",
    "        for i in ft:\n",
    "            dictmean[i] = df['price'][df[feature]== i].mean()\n",
    "\n",
    "        c = dict(Counter(dictmean).most_common())\n",
    "        x = list(c.keys())\n",
    "        y = list(c.values())\n",
    "        X = x[n:k]\n",
    "        Y = y[n:k]\n",
    "        \n",
    "        plt.figure(figsize=(15,8))\n",
    "        plt.bar(np.arange(len(X)), Y, width=0.3, color= 'b', tick_label= X, label='Average Price', alpha=0.8)\n",
    "        plt.xticks(rotation='vertical')\n",
    "        plt.ylabel('Average Price')\n",
    "        plt.xlabel(f'{feature}')\n",
    "        plt.legend()\n",
    "        plt.show()\n"
   ]
  },
  {
   "cell_type": "code",
   "execution_count": null,
   "metadata": {},
   "outputs": [],
   "source": []
  },
  {
   "cell_type": "markdown",
   "metadata": {},
   "source": [
    "<h1> 1. Checking and Cleaning Data </h1>"
   ]
  },
  {
   "cell_type": "markdown",
   "metadata": {},
   "source": [
    "<h4> 1a. Price </h4>"
   ]
  },
  {
   "cell_type": "code",
   "execution_count": 5,
   "metadata": {},
   "outputs": [
    {
     "name": "stdout",
     "output_type": "stream",
     "text": [
      "               price      mileage         engV         year\n",
      "count    9576.000000  9576.000000  9142.000000  9576.000000\n",
      "mean    15633.317316   138.862364     2.646344  2006.605994\n",
      "std     24106.523436    98.629754     5.927699     7.067924\n",
      "min         0.000000     0.000000     0.100000  1953.000000\n",
      "25%      4999.000000    70.000000     1.600000  2004.000000\n",
      "50%      9200.000000   128.000000     2.000000  2008.000000\n",
      "75%     16700.000000   194.000000     2.500000  2012.000000\n",
      "max    547800.000000   999.000000    99.990000  2016.000000\n",
      "car               0\n",
      "price             0\n",
      "body              0\n",
      "mileage           0\n",
      "engV            425\n",
      "engType           0\n",
      "registration      0\n",
      "year              0\n",
      "model             0\n",
      "drive           492\n",
      "dtype: int64\n",
      "\n",
      " -- After drop 0 value of price\n",
      " --\n"
     ]
    },
    {
     "data": {
      "text/html": [
       "<div>\n",
       "<style scoped>\n",
       "    .dataframe tbody tr th:only-of-type {\n",
       "        vertical-align: middle;\n",
       "    }\n",
       "\n",
       "    .dataframe tbody tr th {\n",
       "        vertical-align: top;\n",
       "    }\n",
       "\n",
       "    .dataframe thead th {\n",
       "        text-align: right;\n",
       "    }\n",
       "</style>\n",
       "<table border=\"1\" class=\"dataframe\">\n",
       "  <thead>\n",
       "    <tr style=\"text-align: right;\">\n",
       "      <th></th>\n",
       "      <th>price</th>\n",
       "      <th>mileage</th>\n",
       "      <th>engV</th>\n",
       "      <th>year</th>\n",
       "    </tr>\n",
       "  </thead>\n",
       "  <tbody>\n",
       "    <tr>\n",
       "      <th>count</th>\n",
       "      <td>9309.000000</td>\n",
       "      <td>9309.00000</td>\n",
       "      <td>8884.000000</td>\n",
       "      <td>9309.000000</td>\n",
       "    </tr>\n",
       "    <tr>\n",
       "      <th>mean</th>\n",
       "      <td>16081.710884</td>\n",
       "      <td>140.29552</td>\n",
       "      <td>2.629093</td>\n",
       "      <td>2006.523364</td>\n",
       "    </tr>\n",
       "    <tr>\n",
       "      <th>std</th>\n",
       "      <td>24301.899483</td>\n",
       "      <td>98.23421</td>\n",
       "      <td>5.920302</td>\n",
       "      <td>7.001367</td>\n",
       "    </tr>\n",
       "    <tr>\n",
       "      <th>min</th>\n",
       "      <td>259.350000</td>\n",
       "      <td>0.00000</td>\n",
       "      <td>0.100000</td>\n",
       "      <td>1953.000000</td>\n",
       "    </tr>\n",
       "    <tr>\n",
       "      <th>25%</th>\n",
       "      <td>5400.000000</td>\n",
       "      <td>71.00000</td>\n",
       "      <td>1.600000</td>\n",
       "      <td>2004.000000</td>\n",
       "    </tr>\n",
       "    <tr>\n",
       "      <th>50%</th>\n",
       "      <td>9500.000000</td>\n",
       "      <td>129.00000</td>\n",
       "      <td>2.000000</td>\n",
       "      <td>2008.000000</td>\n",
       "    </tr>\n",
       "    <tr>\n",
       "      <th>75%</th>\n",
       "      <td>17000.000000</td>\n",
       "      <td>195.00000</td>\n",
       "      <td>2.500000</td>\n",
       "      <td>2012.000000</td>\n",
       "    </tr>\n",
       "    <tr>\n",
       "      <th>max</th>\n",
       "      <td>547800.000000</td>\n",
       "      <td>999.00000</td>\n",
       "      <td>99.990000</td>\n",
       "      <td>2016.000000</td>\n",
       "    </tr>\n",
       "  </tbody>\n",
       "</table>\n",
       "</div>"
      ],
      "text/plain": [
       "               price     mileage         engV         year\n",
       "count    9309.000000  9309.00000  8884.000000  9309.000000\n",
       "mean    16081.710884   140.29552     2.629093  2006.523364\n",
       "std     24301.899483    98.23421     5.920302     7.001367\n",
       "min       259.350000     0.00000     0.100000  1953.000000\n",
       "25%      5400.000000    71.00000     1.600000  2004.000000\n",
       "50%      9500.000000   129.00000     2.000000  2008.000000\n",
       "75%     17000.000000   195.00000     2.500000  2012.000000\n",
       "max    547800.000000   999.00000    99.990000  2016.000000"
      ]
     },
     "execution_count": 5,
     "metadata": {},
     "output_type": "execute_result"
    }
   ],
   "source": [
    "print(df.describe())\n",
    "# drop price min value (0), Impossible Value\n",
    "df.drop(df[df['price']==df['price'].min()].index.values, inplace=True)\n",
    "print(df.isnull().sum())\n",
    "\n",
    "print('\\n -- After drop 0 value of price\\n --')\n",
    "df.describe()"
   ]
  },
  {
   "cell_type": "markdown",
   "metadata": {},
   "source": [
    "<h4> 1b. EngineVolume </h4>"
   ]
  },
  {
   "cell_type": "code",
   "execution_count": 6,
   "metadata": {},
   "outputs": [
    {
     "name": "stdout",
     "output_type": "stream",
     "text": [
      "425\n",
      "28\n",
      "425\n"
     ]
    }
   ],
   "source": [
    "# Check model with NaN value of engV\n",
    "engNA = df['model'][df['engV'].isnull()].values\n",
    "print(len(engNA))\n",
    "\n",
    "listmodelengV =[]\n",
    "for i in engNA :\n",
    "    x = df['engV'][df['model']==i].mode().max()\n",
    "    listmodelengV.append(x)\n",
    "\n",
    "# there are still 28 Values are NaN, it means that model has all NaN engV value\n",
    "print(listmodelengV.count(np.nan))\n",
    "print(len(listmodelengV))\n",
    "\n",
    "#  replace nan value with mode value of engV for each model    \n",
    "df.loc[df['engV'].isnull(), 'engV'] = pd.Series(listmodelengV, index=df['model'][df['engV'].isnull()].index)\n",
    "\n",
    "# we drop the model that has nan value (28 units)\n",
    "df.drop(df[df['engV'].isnull()].index.values, inplace=True)\n",
    "\n",
    "\n",
    "# Check outlier values \n",
    "(df['engV'].value_counts().sort_index())\n",
    "\n",
    "\n",
    "#copy data from column engV\n",
    "df['engV2'] = df['engV']     \n",
    "\n",
    "#collect all car model those have engV > 8\n",
    "model1 = df['model'][df['engV']>8].values       \n",
    "# listengv = []\n",
    "listengv2 = []\n",
    "\n",
    "# find the median value of each model\n",
    "# for i in model1:\n",
    "#     listengv.append(df['engV'][df['model']== i].median())\n",
    "\n",
    "for i in model1:\n",
    "    listengv2.append(df['engV'][df['model']== i].mode()[0])   \n",
    "    \n",
    "# print((listengv))\n",
    "# print((listengv2))\n",
    "    \n",
    "# replace outliers value with median value of each model    \n",
    "df.loc[df['engV2']>8, 'engV2'] = pd.Series(listengv2, index=df['model'][df['engV']>8].index)"
   ]
  },
  {
   "cell_type": "code",
   "execution_count": 7,
   "metadata": {},
   "outputs": [
    {
     "data": {
      "text/html": [
       "<div>\n",
       "<style scoped>\n",
       "    .dataframe tbody tr th:only-of-type {\n",
       "        vertical-align: middle;\n",
       "    }\n",
       "\n",
       "    .dataframe tbody tr th {\n",
       "        vertical-align: top;\n",
       "    }\n",
       "\n",
       "    .dataframe thead th {\n",
       "        text-align: right;\n",
       "    }\n",
       "</style>\n",
       "<table border=\"1\" class=\"dataframe\">\n",
       "  <thead>\n",
       "    <tr style=\"text-align: right;\">\n",
       "      <th></th>\n",
       "      <th>price</th>\n",
       "      <th>mileage</th>\n",
       "      <th>engV</th>\n",
       "      <th>year</th>\n",
       "      <th>engV2</th>\n",
       "    </tr>\n",
       "  </thead>\n",
       "  <tbody>\n",
       "    <tr>\n",
       "      <th>count</th>\n",
       "      <td>9269.000000</td>\n",
       "      <td>9269.000000</td>\n",
       "      <td>9269.000000</td>\n",
       "      <td>9269.000000</td>\n",
       "      <td>9269.000000</td>\n",
       "    </tr>\n",
       "    <tr>\n",
       "      <th>mean</th>\n",
       "      <td>16043.621011</td>\n",
       "      <td>140.564462</td>\n",
       "      <td>2.553942</td>\n",
       "      <td>2006.538246</td>\n",
       "      <td>2.207976</td>\n",
       "    </tr>\n",
       "    <tr>\n",
       "      <th>std</th>\n",
       "      <td>24157.195972</td>\n",
       "      <td>98.163353</td>\n",
       "      <td>5.500623</td>\n",
       "      <td>6.951026</td>\n",
       "      <td>0.953740</td>\n",
       "    </tr>\n",
       "    <tr>\n",
       "      <th>min</th>\n",
       "      <td>259.350000</td>\n",
       "      <td>0.000000</td>\n",
       "      <td>0.100000</td>\n",
       "      <td>1959.000000</td>\n",
       "      <td>0.100000</td>\n",
       "    </tr>\n",
       "    <tr>\n",
       "      <th>25%</th>\n",
       "      <td>5400.000000</td>\n",
       "      <td>72.000000</td>\n",
       "      <td>1.600000</td>\n",
       "      <td>2004.000000</td>\n",
       "      <td>1.600000</td>\n",
       "    </tr>\n",
       "    <tr>\n",
       "      <th>50%</th>\n",
       "      <td>9500.000000</td>\n",
       "      <td>129.000000</td>\n",
       "      <td>2.000000</td>\n",
       "      <td>2008.000000</td>\n",
       "      <td>2.000000</td>\n",
       "    </tr>\n",
       "    <tr>\n",
       "      <th>75%</th>\n",
       "      <td>17000.000000</td>\n",
       "      <td>195.000000</td>\n",
       "      <td>2.500000</td>\n",
       "      <td>2012.000000</td>\n",
       "      <td>2.500000</td>\n",
       "    </tr>\n",
       "    <tr>\n",
       "      <th>max</th>\n",
       "      <td>547800.000000</td>\n",
       "      <td>999.000000</td>\n",
       "      <td>99.990000</td>\n",
       "      <td>2016.000000</td>\n",
       "      <td>7.000000</td>\n",
       "    </tr>\n",
       "  </tbody>\n",
       "</table>\n",
       "</div>"
      ],
      "text/plain": [
       "               price      mileage         engV         year        engV2\n",
       "count    9269.000000  9269.000000  9269.000000  9269.000000  9269.000000\n",
       "mean    16043.621011   140.564462     2.553942  2006.538246     2.207976\n",
       "std     24157.195972    98.163353     5.500623     6.951026     0.953740\n",
       "min       259.350000     0.000000     0.100000  1959.000000     0.100000\n",
       "25%      5400.000000    72.000000     1.600000  2004.000000     1.600000\n",
       "50%      9500.000000   129.000000     2.000000  2008.000000     2.000000\n",
       "75%     17000.000000   195.000000     2.500000  2012.000000     2.500000\n",
       "max    547800.000000   999.000000    99.990000  2016.000000     7.000000"
      ]
     },
     "execution_count": 7,
     "metadata": {},
     "output_type": "execute_result"
    }
   ],
   "source": [
    "# check again the outlier values in column engV2\n",
    "\n",
    "df['engV2'].value_counts().sort_index() \n",
    "# there are still outliers, this is happened that model has all wrong values, so median value still get wrong\n",
    "\n",
    "df.drop(df[df['engV2']>7].index, inplace=True)\n",
    "# df.drop('engV', axis=1, inplace=True)\n",
    "\n",
    "df.describe()"
   ]
  },
  {
   "cell_type": "code",
   "execution_count": 8,
   "metadata": {},
   "outputs": [
    {
     "data": {
      "text/html": [
       "<div>\n",
       "<style scoped>\n",
       "    .dataframe tbody tr th:only-of-type {\n",
       "        vertical-align: middle;\n",
       "    }\n",
       "\n",
       "    .dataframe tbody tr th {\n",
       "        vertical-align: top;\n",
       "    }\n",
       "\n",
       "    .dataframe thead th {\n",
       "        text-align: right;\n",
       "    }\n",
       "</style>\n",
       "<table border=\"1\" class=\"dataframe\">\n",
       "  <thead>\n",
       "    <tr style=\"text-align: right;\">\n",
       "      <th></th>\n",
       "      <th>car</th>\n",
       "      <th>price</th>\n",
       "      <th>body</th>\n",
       "      <th>mileage</th>\n",
       "      <th>engV</th>\n",
       "      <th>engType</th>\n",
       "      <th>registration</th>\n",
       "      <th>year</th>\n",
       "      <th>model</th>\n",
       "      <th>drive</th>\n",
       "      <th>engV2</th>\n",
       "    </tr>\n",
       "  </thead>\n",
       "  <tbody>\n",
       "    <tr>\n",
       "      <th>0</th>\n",
       "      <td>Ford</td>\n",
       "      <td>15500.0</td>\n",
       "      <td>crossover</td>\n",
       "      <td>68</td>\n",
       "      <td>2.5</td>\n",
       "      <td>Gas</td>\n",
       "      <td>yes</td>\n",
       "      <td>2010</td>\n",
       "      <td>Kuga</td>\n",
       "      <td>full</td>\n",
       "      <td>2.5</td>\n",
       "    </tr>\n",
       "    <tr>\n",
       "      <th>1</th>\n",
       "      <td>Mercedes-Benz</td>\n",
       "      <td>20500.0</td>\n",
       "      <td>sedan</td>\n",
       "      <td>173</td>\n",
       "      <td>1.8</td>\n",
       "      <td>Gas</td>\n",
       "      <td>yes</td>\n",
       "      <td>2011</td>\n",
       "      <td>E-Class</td>\n",
       "      <td>rear</td>\n",
       "      <td>1.8</td>\n",
       "    </tr>\n",
       "    <tr>\n",
       "      <th>2</th>\n",
       "      <td>Mercedes-Benz</td>\n",
       "      <td>35000.0</td>\n",
       "      <td>other</td>\n",
       "      <td>135</td>\n",
       "      <td>5.5</td>\n",
       "      <td>Petrol</td>\n",
       "      <td>yes</td>\n",
       "      <td>2008</td>\n",
       "      <td>CL 550</td>\n",
       "      <td>rear</td>\n",
       "      <td>5.5</td>\n",
       "    </tr>\n",
       "    <tr>\n",
       "      <th>3</th>\n",
       "      <td>Mercedes-Benz</td>\n",
       "      <td>17800.0</td>\n",
       "      <td>van</td>\n",
       "      <td>162</td>\n",
       "      <td>1.8</td>\n",
       "      <td>Diesel</td>\n",
       "      <td>yes</td>\n",
       "      <td>2012</td>\n",
       "      <td>B 180</td>\n",
       "      <td>front</td>\n",
       "      <td>1.8</td>\n",
       "    </tr>\n",
       "    <tr>\n",
       "      <th>4</th>\n",
       "      <td>Mercedes-Benz</td>\n",
       "      <td>33000.0</td>\n",
       "      <td>vagon</td>\n",
       "      <td>91</td>\n",
       "      <td>2.2</td>\n",
       "      <td>Other</td>\n",
       "      <td>yes</td>\n",
       "      <td>2013</td>\n",
       "      <td>E-Class</td>\n",
       "      <td>NaN</td>\n",
       "      <td>2.2</td>\n",
       "    </tr>\n",
       "  </tbody>\n",
       "</table>\n",
       "</div>"
      ],
      "text/plain": [
       "             car    price       body  mileage  engV engType registration  \\\n",
       "0           Ford  15500.0  crossover       68   2.5     Gas          yes   \n",
       "1  Mercedes-Benz  20500.0      sedan      173   1.8     Gas          yes   \n",
       "2  Mercedes-Benz  35000.0      other      135   5.5  Petrol          yes   \n",
       "3  Mercedes-Benz  17800.0        van      162   1.8  Diesel          yes   \n",
       "4  Mercedes-Benz  33000.0      vagon       91   2.2   Other          yes   \n",
       "\n",
       "   year    model  drive  engV2  \n",
       "0  2010     Kuga   full    2.5  \n",
       "1  2011  E-Class   rear    1.8  \n",
       "2  2008   CL 550   rear    5.5  \n",
       "3  2012    B 180  front    1.8  \n",
       "4  2013  E-Class    NaN    2.2  "
      ]
     },
     "execution_count": 8,
     "metadata": {},
     "output_type": "execute_result"
    }
   ],
   "source": [
    "df.head()\n"
   ]
  },
  {
   "cell_type": "markdown",
   "metadata": {},
   "source": [
    "<h4> 1c. Body </h4>"
   ]
  },
  {
   "cell_type": "code",
   "execution_count": 9,
   "metadata": {},
   "outputs": [
    {
     "name": "stdout",
     "output_type": "stream",
     "text": [
      "Empty DataFrame\n",
      "Columns: [car, price, body, mileage, engV, engType, registration, year, model, drive, engV2, body2]\n",
      "Index: []\n",
      "<class 'pandas.core.frame.DataFrame'>\n",
      "Int64Index: 9269 entries, 0 to 9575\n",
      "Data columns (total 12 columns):\n",
      "car             9269 non-null object\n",
      "price           9269 non-null float64\n",
      "body            9269 non-null object\n",
      "mileage         9269 non-null int64\n",
      "engV            9269 non-null float64\n",
      "engType         9269 non-null object\n",
      "registration    9269 non-null object\n",
      "year            9269 non-null int64\n",
      "model           9269 non-null object\n",
      "drive           8789 non-null object\n",
      "engV2           9269 non-null float64\n",
      "body2           9269 non-null object\n",
      "dtypes: float64(3), int64(2), object(7)\n",
      "memory usage: 941.4+ KB\n",
      "None\n"
     ]
    }
   ],
   "source": [
    "# make a copy of 'Body' column\n",
    "df['body2'] = df['body']\n",
    "\n",
    "# check a model that has 'other' in body column\n",
    "model2 = df['model'][df['body']=='other'].values\n",
    "\n",
    "listmodel =[]\n",
    "for i in model2 :\n",
    "    listmodel.append(df['body'][df['model']==i].mode()[0])\n",
    "\n",
    "\n",
    "df.loc[df['body2']== 'other', 'body2'] = pd.Series(listmodel, index=df['model'][df['body2']=='other'].index)\n",
    "df.loc[df['car']== 'Smart', 'body2'] = 'hatch'\n",
    "\n",
    "sedan = ['RX-8', 'Camaro', 'Mustang', 'Continental', 'SLK 200', 'Coupe', 'Corvette', 'S2000', 'S 63 AMG','CL 63 AMG', \n",
    "        'TT' , 'GT-R', '911', 'Mustang GT', 'Celica', 'Cayman', 'R8', 'CLK 320', 'CL 500', 'A5', 'CL 55 AMG', 'CL 550', '350Z'\n",
    "        , 'Eclipse', 'CLK 200','Z3', 'Z4','CLC 180','CLC 200', 'CLK 220', 'CLK 230','CLC 180''CLC 200', 'CLK 240', 'CLK 280',\n",
    "        'SLK 350', 'Gallardo', 'SL 55 AMG','630', '640', '645', '650', '965' ,'968', '325', '335', 'GranTurismo' , 'S 430',\n",
    "        'Scirocco', 'RCZ', '458 Italia' , 'S 600', 'Cobalt', 'Calibra', 'Prelude','G37', 'Koup', 'Panda', 'Town Car', 'SC 430',\n",
    "        'XKR', 'Altima', 'One', 'Tigra', 'Bravo', 'Smart', 'Manta','Probe', 'Scion', 'California', 'Phantom', '2410', \n",
    "         '306', '406', 'J2', 'Lumina', 'Pro Ceed', 'Paceman', 'Crossfire' , '428', 'Crosstour', 'DB9' , 'Eos', \n",
    "         'S4', 'Challenger', 'M6']\n",
    "\n",
    "\n",
    "van =['L 200', 'D-Max', 'Ranger', 'Hilux', 'RAM', 'F-150', 'Tundra', 'Sprinter 313 ïàññ.', \n",
    "      'Sprinter 208 ïàññ.', 'Sprinter 213 ïàññ.', 'Sprinter 313 ãðóç.', 'Sprinter 315 ïàññ.', 'Sprinter 316 ïàññ.'\n",
    "     ,'Sprinter 319 ãðóç.', '110557', 'Navara', 'Boxer ãðóç.', 'Master ãðóç.', 'Master ïàññ.', 'Amarok', 'Xenon', 'Sephia', 'BDD'\n",
    "     , '2717', 'Kubistar', 'Pajero Pinin', 'Transit Custom', 'LT ïàññ.', 'Caddy', 'ML 430', 'T2 (Transporter)', 'Courier',\n",
    "     'Actyon Sports', 'Grand C4 Picasso', 'Primastar ïàññ.', 'MB ãðóç.', '3302 GAZåëü', '3221 GAZåëü', 'Haval', \n",
    "      'Sprinter 311 ïàññ.', 'F-350']\n",
    "\n",
    "\n",
    "df.loc[df['model'].isin(sedan), 'body2'] = 'sedan'\n",
    "df.loc[df['model'].isin(van), 'body2'] = 'van'\n",
    "\n",
    "\n",
    "# print(len(np.unique(df['model'][df['body2']=='other'].values)))\n",
    "# print(np.unique(df['model'][df['body2']=='other'].values))\n",
    "print(df[df['body2']=='other'])\n",
    "# print(df.head())\n",
    "\n",
    "print(df.info())"
   ]
  },
  {
   "cell_type": "code",
   "execution_count": null,
   "metadata": {},
   "outputs": [],
   "source": []
  },
  {
   "cell_type": "code",
   "execution_count": 10,
   "metadata": {},
   "outputs": [
    {
     "data": {
      "text/html": [
       "<div>\n",
       "<style scoped>\n",
       "    .dataframe tbody tr th:only-of-type {\n",
       "        vertical-align: middle;\n",
       "    }\n",
       "\n",
       "    .dataframe tbody tr th {\n",
       "        vertical-align: top;\n",
       "    }\n",
       "\n",
       "    .dataframe thead th {\n",
       "        text-align: right;\n",
       "    }\n",
       "</style>\n",
       "<table border=\"1\" class=\"dataframe\">\n",
       "  <thead>\n",
       "    <tr style=\"text-align: right;\">\n",
       "      <th></th>\n",
       "      <th>car</th>\n",
       "      <th>price</th>\n",
       "      <th>body</th>\n",
       "      <th>mileage</th>\n",
       "      <th>engV</th>\n",
       "      <th>engType</th>\n",
       "      <th>registration</th>\n",
       "      <th>year</th>\n",
       "      <th>model</th>\n",
       "      <th>drive</th>\n",
       "      <th>engV2</th>\n",
       "      <th>body2</th>\n",
       "      <th>sizeCat</th>\n",
       "    </tr>\n",
       "  </thead>\n",
       "  <tbody>\n",
       "    <tr>\n",
       "      <th>0</th>\n",
       "      <td>Ford</td>\n",
       "      <td>15500.0</td>\n",
       "      <td>crossover</td>\n",
       "      <td>68</td>\n",
       "      <td>2.5</td>\n",
       "      <td>Gas</td>\n",
       "      <td>yes</td>\n",
       "      <td>2010</td>\n",
       "      <td>Kuga</td>\n",
       "      <td>full</td>\n",
       "      <td>2.5</td>\n",
       "      <td>crossover</td>\n",
       "      <td>medium car</td>\n",
       "    </tr>\n",
       "    <tr>\n",
       "      <th>1</th>\n",
       "      <td>Mercedes-Benz</td>\n",
       "      <td>20500.0</td>\n",
       "      <td>sedan</td>\n",
       "      <td>173</td>\n",
       "      <td>1.8</td>\n",
       "      <td>Gas</td>\n",
       "      <td>yes</td>\n",
       "      <td>2011</td>\n",
       "      <td>E-Class</td>\n",
       "      <td>rear</td>\n",
       "      <td>1.8</td>\n",
       "      <td>sedan</td>\n",
       "      <td>small car</td>\n",
       "    </tr>\n",
       "    <tr>\n",
       "      <th>2</th>\n",
       "      <td>Mercedes-Benz</td>\n",
       "      <td>35000.0</td>\n",
       "      <td>other</td>\n",
       "      <td>135</td>\n",
       "      <td>5.5</td>\n",
       "      <td>Petrol</td>\n",
       "      <td>yes</td>\n",
       "      <td>2008</td>\n",
       "      <td>CL 550</td>\n",
       "      <td>rear</td>\n",
       "      <td>5.5</td>\n",
       "      <td>sedan</td>\n",
       "      <td>small car</td>\n",
       "    </tr>\n",
       "    <tr>\n",
       "      <th>3</th>\n",
       "      <td>Mercedes-Benz</td>\n",
       "      <td>17800.0</td>\n",
       "      <td>van</td>\n",
       "      <td>162</td>\n",
       "      <td>1.8</td>\n",
       "      <td>Diesel</td>\n",
       "      <td>yes</td>\n",
       "      <td>2012</td>\n",
       "      <td>B 180</td>\n",
       "      <td>front</td>\n",
       "      <td>1.8</td>\n",
       "      <td>van</td>\n",
       "      <td>big car</td>\n",
       "    </tr>\n",
       "    <tr>\n",
       "      <th>4</th>\n",
       "      <td>Mercedes-Benz</td>\n",
       "      <td>33000.0</td>\n",
       "      <td>vagon</td>\n",
       "      <td>91</td>\n",
       "      <td>2.2</td>\n",
       "      <td>Other</td>\n",
       "      <td>yes</td>\n",
       "      <td>2013</td>\n",
       "      <td>E-Class</td>\n",
       "      <td>NaN</td>\n",
       "      <td>2.2</td>\n",
       "      <td>vagon</td>\n",
       "      <td>medium car</td>\n",
       "    </tr>\n",
       "    <tr>\n",
       "      <th>5</th>\n",
       "      <td>Nissan</td>\n",
       "      <td>16600.0</td>\n",
       "      <td>crossover</td>\n",
       "      <td>83</td>\n",
       "      <td>2.0</td>\n",
       "      <td>Petrol</td>\n",
       "      <td>yes</td>\n",
       "      <td>2013</td>\n",
       "      <td>X-Trail</td>\n",
       "      <td>full</td>\n",
       "      <td>2.0</td>\n",
       "      <td>crossover</td>\n",
       "      <td>medium car</td>\n",
       "    </tr>\n",
       "    <tr>\n",
       "      <th>6</th>\n",
       "      <td>Honda</td>\n",
       "      <td>6500.0</td>\n",
       "      <td>sedan</td>\n",
       "      <td>199</td>\n",
       "      <td>2.0</td>\n",
       "      <td>Petrol</td>\n",
       "      <td>yes</td>\n",
       "      <td>2003</td>\n",
       "      <td>Accord</td>\n",
       "      <td>front</td>\n",
       "      <td>2.0</td>\n",
       "      <td>sedan</td>\n",
       "      <td>small car</td>\n",
       "    </tr>\n",
       "    <tr>\n",
       "      <th>7</th>\n",
       "      <td>Renault</td>\n",
       "      <td>10500.0</td>\n",
       "      <td>vagon</td>\n",
       "      <td>185</td>\n",
       "      <td>1.5</td>\n",
       "      <td>Diesel</td>\n",
       "      <td>yes</td>\n",
       "      <td>2011</td>\n",
       "      <td>Megane</td>\n",
       "      <td>front</td>\n",
       "      <td>1.5</td>\n",
       "      <td>vagon</td>\n",
       "      <td>medium car</td>\n",
       "    </tr>\n",
       "    <tr>\n",
       "      <th>8</th>\n",
       "      <td>Mercedes-Benz</td>\n",
       "      <td>21500.0</td>\n",
       "      <td>sedan</td>\n",
       "      <td>146</td>\n",
       "      <td>1.8</td>\n",
       "      <td>Gas</td>\n",
       "      <td>yes</td>\n",
       "      <td>2012</td>\n",
       "      <td>E-Class</td>\n",
       "      <td>rear</td>\n",
       "      <td>1.8</td>\n",
       "      <td>sedan</td>\n",
       "      <td>small car</td>\n",
       "    </tr>\n",
       "    <tr>\n",
       "      <th>9</th>\n",
       "      <td>Mercedes-Benz</td>\n",
       "      <td>22700.0</td>\n",
       "      <td>sedan</td>\n",
       "      <td>125</td>\n",
       "      <td>2.2</td>\n",
       "      <td>Diesel</td>\n",
       "      <td>yes</td>\n",
       "      <td>2010</td>\n",
       "      <td>E-Class</td>\n",
       "      <td>rear</td>\n",
       "      <td>2.2</td>\n",
       "      <td>sedan</td>\n",
       "      <td>small car</td>\n",
       "    </tr>\n",
       "  </tbody>\n",
       "</table>\n",
       "</div>"
      ],
      "text/plain": [
       "             car    price       body  mileage  engV engType registration  \\\n",
       "0           Ford  15500.0  crossover       68   2.5     Gas          yes   \n",
       "1  Mercedes-Benz  20500.0      sedan      173   1.8     Gas          yes   \n",
       "2  Mercedes-Benz  35000.0      other      135   5.5  Petrol          yes   \n",
       "3  Mercedes-Benz  17800.0        van      162   1.8  Diesel          yes   \n",
       "4  Mercedes-Benz  33000.0      vagon       91   2.2   Other          yes   \n",
       "5         Nissan  16600.0  crossover       83   2.0  Petrol          yes   \n",
       "6          Honda   6500.0      sedan      199   2.0  Petrol          yes   \n",
       "7        Renault  10500.0      vagon      185   1.5  Diesel          yes   \n",
       "8  Mercedes-Benz  21500.0      sedan      146   1.8     Gas          yes   \n",
       "9  Mercedes-Benz  22700.0      sedan      125   2.2  Diesel          yes   \n",
       "\n",
       "   year    model  drive  engV2      body2     sizeCat  \n",
       "0  2010     Kuga   full    2.5  crossover  medium car  \n",
       "1  2011  E-Class   rear    1.8      sedan   small car  \n",
       "2  2008   CL 550   rear    5.5      sedan   small car  \n",
       "3  2012    B 180  front    1.8        van     big car  \n",
       "4  2013  E-Class    NaN    2.2      vagon  medium car  \n",
       "5  2013  X-Trail   full    2.0  crossover  medium car  \n",
       "6  2003   Accord  front    2.0      sedan   small car  \n",
       "7  2011   Megane  front    1.5      vagon  medium car  \n",
       "8  2012  E-Class   rear    1.8      sedan   small car  \n",
       "9  2010  E-Class   rear    2.2      sedan   small car  "
      ]
     },
     "execution_count": 10,
     "metadata": {},
     "output_type": "execute_result"
    }
   ],
   "source": [
    "l1 =[]\n",
    "for i in df['body2']:\n",
    "    if i == 'sedan' or i== 'hatch':\n",
    "        l1.append('small car')\n",
    "    elif i == 'crossover' or i== 'vagon':\n",
    "        l1.append('medium car')\n",
    "    else:\n",
    "        l1.append('big car')\n",
    "    \n",
    "df['sizeCat'] = l1\n",
    "\n",
    "\n",
    "df.head(10)"
   ]
  },
  {
   "cell_type": "markdown",
   "metadata": {},
   "source": [
    "<h4> 1d. Car Brand </h4>"
   ]
  },
  {
   "cell_type": "code",
   "execution_count": 11,
   "metadata": {},
   "outputs": [
    {
     "data": {
      "image/png": "[encoded data removed]",
      "text/plain": [
       "<Figure size 1080x576 with 1 Axes>"
      ]
     },
     "metadata": {
      "needs_background": "light"
     },
     "output_type": "display_data"
    },
    {
     "name": "stdout",
     "output_type": "stream",
     "text": [
      "['Bentley', 'Aston Martin', 'Ferrari', 'Maserati', 'Lamborghini', 'Rolls-Royce']\n"
     ]
    }
   ],
   "source": [
    "ftmean('car', 2, None)\n",
    "\n",
    "brand = df['car'].value_counts().index\n",
    "\n",
    "# Car Brand Class base on Average Price\n",
    "premium = []\n",
    "high = []\n",
    "normal = []\n",
    "low = []\n",
    "rata2mobil = []\n",
    "\n",
    "# for i in brand:\n",
    "#     rata2mobil.append(df['price'][df['car']== i].mean())\n",
    "    \n",
    "# rata2DS = pd.Series(np.array(rata2mobil), name='rata2mobil')\n",
    "# print(rata2DS.describe())\n",
    "\n",
    "\n",
    "for i in brand:\n",
    "    mean = df['price'][df['car']== i].mean()\n",
    "    if mean >= 100000:\n",
    "        premium.append(i)\n",
    "    elif mean < 100000 and mean >= 25000:\n",
    "        high.append(i)\n",
    "    elif mean < 25000 and mean >= 12500:\n",
    "        normal.append(i)\n",
    "    else:\n",
    "        low.append(i)\n",
    "# print(len(brand))        \n",
    "        \n",
    "       \n",
    "print(premium)\n",
    "# print(medium)\n",
    "# print(normal)"
   ]
  },
  {
   "cell_type": "code",
   "execution_count": 12,
   "metadata": {
    "scrolled": false
   },
   "outputs": [
    {
     "name": "stdout",
     "output_type": "stream",
     "text": [
      "9269\n"
     ]
    },
    {
     "data": {
      "text/plain": [
       "car               0\n",
       "price             0\n",
       "body              0\n",
       "mileage           0\n",
       "engV              0\n",
       "engType           0\n",
       "registration      0\n",
       "year              0\n",
       "model             0\n",
       "drive           480\n",
       "engV2             0\n",
       "body2             0\n",
       "sizeCat           0\n",
       "carClass          0\n",
       "dtype: int64"
      ]
     },
     "execution_count": 12,
     "metadata": {},
     "output_type": "execute_result"
    }
   ],
   "source": [
    "# Car Brand Mapping base on Class\n",
    "carClass = []\n",
    "\n",
    "for i in df['car']:\n",
    "    if i in premium:\n",
    "        carClass.append(4)\n",
    "    elif i in high:\n",
    "        carClass.append(3)\n",
    "    elif i in normal:\n",
    "        carClass.append(2)\n",
    "    else:\n",
    "        carClass.append(1)\n",
    "\n",
    "print(len(carClass))\n",
    "df['carClass'] = carClass\n",
    "\n",
    "\n",
    "df.isnull().sum()"
   ]
  },
  {
   "cell_type": "markdown",
   "metadata": {},
   "source": [
    "<h4> 1e. Drive Type </h4>"
   ]
  },
  {
   "cell_type": "code",
   "execution_count": 13,
   "metadata": {},
   "outputs": [
    {
     "name": "stdout",
     "output_type": "stream",
     "text": [
      "15\n",
      "Index(['car', 'price', 'body', 'mileage', 'engV', 'engType', 'registration',\n",
      "       'year', 'model', 'drive', 'engV2', 'body2', 'sizeCat', 'carClass',\n",
      "       'drive2', 'driveType'],\n",
      "      dtype='object')\n",
      "9254\n",
      "car               0\n",
      "price             0\n",
      "body              0\n",
      "mileage           0\n",
      "engV              0\n",
      "engType           0\n",
      "registration      0\n",
      "year              0\n",
      "model             0\n",
      "drive           465\n",
      "engV2             0\n",
      "body2             0\n",
      "sizeCat           0\n",
      "carClass          0\n",
      "drive2            0\n",
      "driveType         0\n",
      "dtype: int64\n"
     ]
    }
   ],
   "source": [
    "# Check model with NaN value of drive\n",
    "driveNA = df['model'][df['drive'].isnull()].values\n",
    "df['drive2']= df['drive']\n",
    "\n",
    "\n",
    "listdriveNA =[]\n",
    "\n",
    "for i in driveNA :\n",
    "    x = df['drive'][df['model']==i].mode()\n",
    "    if x.empty:\n",
    "        listdriveNA.append(np.nan)\n",
    "    else:\n",
    "        listdriveNA.append(x[0])\n",
    "\n",
    "# there are still 15 Values are NaN, it means that model has all NaN drive value \n",
    "print(listdriveNA.count(np.nan))\n",
    "\n",
    "\n",
    "# #  replace nan value with mode value of drive for each model    \n",
    "df.loc[df['drive'].isnull(), 'drive2'] = pd.Series(listdriveNA, index=df['model'][df['drive'].isnull()].index)\n",
    "\n",
    "# # we drop the model that has nan value (15 units)\n",
    "df.drop(df[df['drive2'].isnull()].index.values, inplace=True)\n",
    "\n",
    "\n",
    "driveType = []\n",
    "\n",
    "for i in df['drive2']:\n",
    "    if i == 'full':\n",
    "        driveType.append('4wd')\n",
    "    else:\n",
    "        driveType.append('2wd')\n",
    "\n",
    "df['driveType'] = driveType\n",
    "print(df.columns)\n",
    "print(len(driveType))\n",
    "print(df.isnull().sum())"
   ]
  },
  {
   "cell_type": "markdown",
   "metadata": {},
   "source": [
    "<h4> 1e. Create dummy Columns </h4>"
   ]
  },
  {
   "cell_type": "code",
   "execution_count": 14,
   "metadata": {},
   "outputs": [
    {
     "name": "stdout",
     "output_type": "stream",
     "text": [
      "<class 'pandas.core.frame.DataFrame'>\n",
      "Int64Index: 9254 entries, 0 to 9575\n",
      "Data columns (total 27 columns):\n",
      "car             9254 non-null object\n",
      "price           9254 non-null float64\n",
      "body            9254 non-null object\n",
      "mileage         9254 non-null int64\n",
      "engV            9254 non-null float64\n",
      "engType         9254 non-null object\n",
      "registration    9254 non-null object\n",
      "year            9254 non-null int64\n",
      "model           9254 non-null object\n",
      "drive           8789 non-null object\n",
      "engV2           9254 non-null float64\n",
      "body2           9254 non-null object\n",
      "sizeCat         9254 non-null object\n",
      "carClass        9254 non-null int64\n",
      "drive2          9254 non-null object\n",
      "driveType       9254 non-null object\n",
      "big car         9254 non-null uint8\n",
      "medium car      9254 non-null uint8\n",
      "small car       9254 non-null uint8\n",
      "2wd             9254 non-null uint8\n",
      "4wd             9254 non-null uint8\n",
      "Diesel          9254 non-null uint8\n",
      "Gas             9254 non-null uint8\n",
      "Other           9254 non-null uint8\n",
      "Petrol          9254 non-null uint8\n",
      "no              9254 non-null uint8\n",
      "yes             9254 non-null uint8\n",
      "dtypes: float64(3), int64(3), object(10), uint8(11)\n",
      "memory usage: 1.3+ MB\n"
     ]
    }
   ],
   "source": [
    "dfdummy = pd.get_dummies(df['sizeCat'])\n",
    "dfdummy2 = pd.get_dummies(df['driveType'])\n",
    "dfdummy3 = pd.get_dummies(df['engType'])\n",
    "dfdummy4 = pd.get_dummies(df['registration'])\n",
    "df = pd.concat([df,dfdummy], axis=1)\n",
    "df = pd.concat([df,dfdummy2], axis=1)\n",
    "df = pd.concat([df,dfdummy3], axis=1)\n",
    "df = pd.concat([df,dfdummy4], axis=1)\n",
    "\n",
    "df.info()"
   ]
  },
  {
   "cell_type": "code",
   "execution_count": null,
   "metadata": {},
   "outputs": [],
   "source": []
  },
  {
   "cell_type": "markdown",
   "metadata": {},
   "source": [
    "<h1> 2. Data Visualization </h1>"
   ]
  },
  {
   "cell_type": "code",
   "execution_count": 15,
   "metadata": {},
   "outputs": [
    {
     "data": {
      "text/plain": [
       "Index(['car', 'price', 'body', 'mileage', 'engV', 'engType', 'registration',\n",
       "       'year', 'model', 'drive', 'engV2', 'body2', 'sizeCat', 'carClass',\n",
       "       'drive2', 'driveType', 'big car', 'medium car', 'small car', '2wd',\n",
       "       '4wd', 'Diesel', 'Gas', 'Other', 'Petrol', 'no', 'yes'],\n",
       "      dtype='object')"
      ]
     },
     "execution_count": 15,
     "metadata": {},
     "output_type": "execute_result"
    }
   ],
   "source": [
    "df.columns"
   ]
  },
  {
   "cell_type": "code",
   "execution_count": 40,
   "metadata": {},
   "outputs": [
    {
     "data": {
      "image/png": "[encoded data removed]",
      "text/plain": [
       "<Figure size 1080x576 with 1 Axes>"
      ]
     },
     "metadata": {
      "needs_background": "light"
     },
     "output_type": "display_data"
    }
   ],
   "source": [
    "ftcount('price', 0, None)"
   ]
  },
  {
   "cell_type": "code",
   "execution_count": 16,
   "metadata": {
    "scrolled": false
   },
   "outputs": [
    {
     "data": {
      "image/png": "[encoded data removed]",
      "text/plain": [
       "<Figure size 1080x576 with 1 Axes>"
      ]
     },
     "metadata": {
      "needs_background": "light"
     },
     "output_type": "display_data"
    }
   ],
   "source": [
    "ftmean('body', 0, None)"
   ]
  },
  {
   "cell_type": "code",
   "execution_count": 17,
   "metadata": {
    "scrolled": false
   },
   "outputs": [
    {
     "data": {
      "image/png": "[encoded data removed]",
      "text/plain": [
       "<Figure size 1080x576 with 1 Axes>"
      ]
     },
     "metadata": {
      "needs_background": "light"
     },
     "output_type": "display_data"
    }
   ],
   "source": [
    "ftcount('body', 0, None)"
   ]
  },
  {
   "cell_type": "code",
   "execution_count": 18,
   "metadata": {},
   "outputs": [
    {
     "data": {
      "image/png": "[encoded data removed]",
      "text/plain": [
       "<Figure size 1080x576 with 1 Axes>"
      ]
     },
     "metadata": {
      "needs_background": "light"
     },
     "output_type": "display_data"
    }
   ],
   "source": [
    "ftcount('drive', 0, None)"
   ]
  },
  {
   "cell_type": "code",
   "execution_count": 19,
   "metadata": {},
   "outputs": [
    {
     "data": {
      "image/png": "[encoded data removed]",
      "text/plain": [
       "<Figure size 1080x576 with 1 Axes>"
      ]
     },
     "metadata": {
      "needs_background": "light"
     },
     "output_type": "display_data"
    }
   ],
   "source": [
    "ftmean('drive', 0, None)"
   ]
  },
  {
   "cell_type": "code",
   "execution_count": 20,
   "metadata": {},
   "outputs": [
    {
     "data": {
      "image/png": "[encoded data removed]",
      "text/plain": [
       "<Figure size 864x720 with 2 Axes>"
      ]
     },
     "metadata": {
      "needs_background": "light"
     },
     "output_type": "display_data"
    }
   ],
   "source": [
    "# ftcount('engType')\n",
    "# ftcount('mileage')\n",
    "\n",
    "plt.figure(figsize=(12,10))\n",
    "corr = df.drop('engV',axis=1).corr(method='spearman')\n",
    "sns.heatmap(corr, annot=True, cmap=plt.cm.Reds)\n",
    "plt.show()"
   ]
  },
  {
   "cell_type": "code",
   "execution_count": 21,
   "metadata": {},
   "outputs": [
    {
     "name": "stdout",
     "output_type": "stream",
     "text": [
      "price         1.000000\n",
      "year          0.695286\n",
      "4wd           0.515377\n",
      "engV2         0.501315\n",
      "carClass      0.478298\n",
      "medium car    0.356362\n",
      "yes           0.294109\n",
      "Diesel        0.123036\n",
      "Other         0.009445\n",
      "Petrol       -0.005949\n",
      "big car      -0.064619\n",
      "Gas          -0.144312\n",
      "small car    -0.283423\n",
      "no           -0.294109\n",
      "mileage      -0.421946\n",
      "2wd          -0.515377\n",
      "Name: price, dtype: float64\n"
     ]
    },
    {
     "data": {
      "image/png": "[encoded data removed]",
      "text/plain": [
       "<Figure size 720x576 with 1 Axes>"
      ]
     },
     "metadata": {
      "needs_background": "light"
     },
     "output_type": "display_data"
    }
   ],
   "source": [
    "#Correlation with output variable\n",
    "plt.figure(figsize=(10,8))\n",
    "corr_target = (corr[\"price\"])\n",
    "print(corr_target.sort_values(ascending=False))\n",
    "corr_target.plot(kind='barh')\n",
    "plt.show()\n",
    "# df.describe()"
   ]
  },
  {
   "cell_type": "code",
   "execution_count": null,
   "metadata": {},
   "outputs": [],
   "source": []
  },
  {
   "cell_type": "markdown",
   "metadata": {},
   "source": [
    "<h1> 3. Machine Learning  </h1>"
   ]
  },
  {
   "cell_type": "markdown",
   "metadata": {},
   "source": [
    "<h4> 3a. Model Splitting </h4>"
   ]
  },
  {
   "cell_type": "code",
   "execution_count": 22,
   "metadata": {},
   "outputs": [],
   "source": [
    "# model Spliting\n",
    "\n",
    "from sklearn.model_selection import train_test_split\n",
    "\n",
    "# drop all columns with string values and also unnecessary colums\n",
    "X = df.drop(['car', 'body', 'engV','engType', 'registration', 'model', 'drive', 'drive2', 'body2', 'sizeCat', 'driveType', 'price'], axis=1)  #independent columns\n",
    "X = X.astype('float')\n",
    "\n",
    "y = df['price']    \n",
    "y = y.astype('int')\n",
    "\n",
    "#split data into train and test sets\n",
    "\n",
    "X_train, X_test, y_train, y_test = train_test_split(X, y, test_size=0.1 , random_state=4)\n"
   ]
  },
  {
   "cell_type": "markdown",
   "metadata": {},
   "source": [
    "<h4> 3b. Model Selection Testing</h4>"
   ]
  },
  {
   "cell_type": "code",
   "execution_count": 23,
   "metadata": {},
   "outputs": [
    {
     "data": {
      "text/html": [
       "<img src=\"Capture.png?format=100w\"/>"
      ],
      "text/plain": [
       "<IPython.core.display.Image object>"
      ]
     },
     "execution_count": 23,
     "metadata": {},
     "output_type": "execute_result"
    }
   ],
   "source": [
    "from IPython.display import Image\n",
    "\n",
    "Image(url= \"Capture.png?format=100w\")"
   ]
  },
  {
   "cell_type": "code",
   "execution_count": 24,
   "metadata": {},
   "outputs": [
    {
     "name": "stdout",
     "output_type": "stream",
     "text": [
      "ExtraTreesRegressor = [88.88024652 91.18600724 89.81385697 69.23091812 89.62042018] 85.75 %\n",
      "RandomForestRegressor = [88.40329223 92.41170237 87.98201626 77.20288853 89.01061405] 87.0 %\n",
      "GradientBoostingRegressor = [86.22765318 88.16413296 85.06291913 78.85929737 87.04884201] 85.07 %\n",
      "KNeighborsRegressor = [73.38962211 76.07419294 70.45501766 71.15131212 75.11656523] 73.24 %\n",
      "DecisionTreeRegressor = [60.89754438 81.01886923 78.65963687 70.37534232 79.46281232] 74.08 %\n"
     ]
    }
   ],
   "source": [
    "# checked with cross_val_score\n",
    "from sklearn.model_selection import cross_val_score\n",
    "\n",
    "from sklearn.ensemble import ExtraTreesRegressor\n",
    "from sklearn.ensemble import RandomForestRegressor\n",
    "from sklearn.neighbors import KNeighborsRegressor\n",
    "from sklearn.ensemble import GradientBoostingRegressor\n",
    "from sklearn.tree import DecisionTreeRegressor\n",
    "from sklearn.ensemble import VotingRegressor\n",
    "\n",
    "\n",
    "# algorithm for scoring\n",
    "modelETR = ExtraTreesRegressor(n_estimators=200, random_state=200, max_features=15, max_depth=10, max_leaf_nodes=900)\n",
    "modelRFR = RandomForestRegressor(n_estimators=100, random_state=190, max_features=7, max_depth=10, max_leaf_nodes=900)\n",
    "modelKNR = KNeighborsRegressor(n_neighbors=10)\n",
    "modelDTR = DecisionTreeRegressor(max_depth=None, min_samples_split=2, random_state=100)\n",
    "modelGBR = GradientBoostingRegressor(learning_rate=0.2, random_state=200, max_features=14)\n",
    "\n",
    "\n",
    "algorithm = [modelETR, modelRFR, modelGBR, modelKNR, modelDTR]\n",
    "\n",
    "for i in range(len(algorithm)):\n",
    "    crossvalscore = cross_val_score(algorithm[i], X, y, cv= 5, scoring='r2')\n",
    "    print(str(algorithm[i])[0:str(algorithm[i]).find('(')],'=', crossvalscore*100, round(crossvalscore.mean()*100,2),'%')\n",
    "\n"
   ]
  },
  {
   "cell_type": "markdown",
   "metadata": {},
   "source": [
    "<h4> 3c. Model Checking </h4>"
   ]
  },
  {
   "cell_type": "markdown",
   "metadata": {},
   "source": [
    "<strong>---- 1. Model.fit(X_train, y_train) 90% training, 10% testing</strong>"
   ]
  },
  {
   "cell_type": "code",
   "execution_count": 25,
   "metadata": {},
   "outputs": [
    {
     "data": {
      "image/png": "[encoded data removed]",
      "text/plain": [
       "<Figure size 432x288 with 1 Axes>"
      ]
     },
     "metadata": {
      "needs_background": "light"
     },
     "output_type": "display_data"
    },
    {
     "name": "stdout",
     "output_type": "stream",
     "text": [
      "Base on X_test, y_Test : 94.30377348870245 %\n",
      "Base on X, y (all data tested) : 95.07286532338028 %\n",
      "3100\n",
      "[4322.39215855]\n"
     ]
    }
   ],
   "source": [
    "# ExtraTreesRegressor \n",
    "\n",
    "modelETR.fit(X_train,y_train)\n",
    "# print(sorted(modelETR.feature_importances_, reverse=True)) \n",
    "\n",
    "# plot graph of feature importances for better visualization\n",
    "feat_importances = pd.Series(modelETR.feature_importances_, index=X.columns)\n",
    "feat_importances.nlargest(16).plot(kind='barh')\n",
    "plt.show()\n",
    "\n",
    "print('Base on X_test, y_Test :', modelETR.score(X_test,y_test)*100, '%')\n",
    "print('Base on X, y (all data tested) :', modelETR.score(X,y)*100, '%')\n",
    "print(y_test.iloc[1])\n",
    "print(modelETR.predict([X_test.iloc[1]]))"
   ]
  },
  {
   "cell_type": "code",
   "execution_count": 26,
   "metadata": {},
   "outputs": [
    {
     "data": {
      "image/png": "[encoded data removed]",
      "text/plain": [
       "<Figure size 432x288 with 1 Axes>"
      ]
     },
     "metadata": {
      "needs_background": "light"
     },
     "output_type": "display_data"
    },
    {
     "name": "stdout",
     "output_type": "stream",
     "text": [
      "Base on X_test, y_Test : 95.06635162954483 %\n",
      "Base on X, y (all data tested) : 95.48650867020719 %\n",
      "3100\n",
      "[3351.56455582]\n"
     ]
    }
   ],
   "source": [
    "# RandomForestRegressor\n",
    "\n",
    "modelRFR.fit(X_train, y_train)\n",
    "\n",
    "feat_importances = pd.Series(modelRFR.feature_importances_, index=X.columns)\n",
    "feat_importances.nlargest(15).plot(kind='barh')\n",
    "plt.show()\n",
    "\n",
    "print('Base on X_test, y_Test :', modelRFR.score(X_test,y_test)*100, '%')\n",
    "print('Base on X, y (all data tested) :', modelRFR.score(X,y)*100, '%')\n",
    "print(y_test.iloc[1])\n",
    "print(modelRFR.predict([X_test.iloc[1]]))"
   ]
  },
  {
   "cell_type": "code",
   "execution_count": 27,
   "metadata": {},
   "outputs": [
    {
     "data": {
      "image/png": "[encoded data removed]",
      "text/plain": [
       "<Figure size 432x288 with 1 Axes>"
      ]
     },
     "metadata": {
      "needs_background": "light"
     },
     "output_type": "display_data"
    },
    {
     "name": "stdout",
     "output_type": "stream",
     "text": [
      "Base on X_test, y_Test : 92.89695700120298 %\n",
      "Base on X, y (all data tested) : 92.03980447839875 %\n",
      "3100\n",
      "[3512.02066783]\n"
     ]
    }
   ],
   "source": [
    "# GradientBoostingRegressor\n",
    "\n",
    "modelGBR.fit(X_train, y_train)\n",
    "# print(sorted(modelGBR.feature_importances_, reverse=True)) \n",
    "\n",
    "# plot graph of feature importances for better visualization\n",
    "feat_importances = pd.Series(modelGBR.feature_importances_, index=X.columns)\n",
    "feat_importances.nlargest(15).plot(kind='barh')\n",
    "plt.show()\n",
    "\n",
    "print( 'Base on X_test, y_Test :', modelGBR.score(X_test,y_test)*100, '%')\n",
    "print('Base on X, y (all data tested) :', modelGBR.score(X,y)*100, '%')\n",
    "print(y_test.iloc[1])\n",
    "print(modelGBR.predict([X_test.iloc[1]]))"
   ]
  },
  {
   "cell_type": "markdown",
   "metadata": {},
   "source": [
    "<strong> ---- 2. Model.fit(X_test, y_test) 10% Training, 90% Testing </strong>"
   ]
  },
  {
   "cell_type": "code",
   "execution_count": 28,
   "metadata": {},
   "outputs": [
    {
     "data": {
      "image/png": "[encoded data removed]",
      "text/plain": [
       "<Figure size 432x288 with 1 Axes>"
      ]
     },
     "metadata": {
      "needs_background": "light"
     },
     "output_type": "display_data"
    },
    {
     "name": "stdout",
     "output_type": "stream",
     "text": [
      "Base on X_train, y_train : 67.83838631821754 %\n",
      "Base on X, y (all data tested) : 70.86897911706056 %\n",
      "3100\n",
      "[3526.34710563]\n"
     ]
    }
   ],
   "source": [
    "# ExtraTreesRegressor \n",
    "\n",
    "modelETR.fit(X_test,y_test)\n",
    "# print(sorted(modelETR.feature_importances_, reverse=True)) \n",
    "\n",
    "# plot graph of feature importances for better visualization\n",
    "feat_importances = pd.Series(modelETR.feature_importances_, index=X.columns)\n",
    "feat_importances.nlargest(16).plot(kind='barh')\n",
    "plt.show()\n",
    "\n",
    "print('Base on X_train, y_train :', modelETR.score(X_train,y_train)*100, '%')\n",
    "print('Base on X, y (all data tested) :', modelETR.score(X,y)*100, '%')\n",
    "print(y_test.iloc[1])\n",
    "print(modelETR.predict([X_test.iloc[1]]))"
   ]
  },
  {
   "cell_type": "code",
   "execution_count": 29,
   "metadata": {},
   "outputs": [
    {
     "data": {
      "image/png": "[encoded data removed]",
      "text/plain": [
       "<Figure size 432x288 with 1 Axes>"
      ]
     },
     "metadata": {
      "needs_background": "light"
     },
     "output_type": "display_data"
    },
    {
     "name": "stdout",
     "output_type": "stream",
     "text": [
      "Base on X_train, y_train : 76.29332884023948 %\n",
      "Base on X, y (all data tested) : 78.18868623595338 %\n",
      "3100\n",
      "[3444.47045952]\n"
     ]
    }
   ],
   "source": [
    "# RandomForestRegressor\n",
    "\n",
    "modelRFR.fit(X_test, y_test)\n",
    "\n",
    "feat_importances = pd.Series(modelRFR.feature_importances_, index=X.columns)\n",
    "feat_importances.nlargest(15).plot(kind='barh')\n",
    "plt.show()\n",
    "\n",
    "print('Base on X_train, y_train :', modelRFR.score(X_train,y_train)*100, '%')\n",
    "print('Base on X, y (all data tested) :', modelRFR.score(X,y)*100, '%')\n",
    "print(y_test.iloc[1])\n",
    "print(modelRFR.predict([X_test.iloc[1]]))"
   ]
  },
  {
   "cell_type": "code",
   "execution_count": 30,
   "metadata": {},
   "outputs": [
    {
     "data": {
      "image/png": "[encoded data removed]",
      "text/plain": [
       "<Figure size 432x288 with 1 Axes>"
      ]
     },
     "metadata": {
      "needs_background": "light"
     },
     "output_type": "display_data"
    },
    {
     "name": "stdout",
     "output_type": "stream",
     "text": [
      "Base on X_train, y_train : 62.8887800172643 %\n",
      "Base on X, y (all data tested) : 66.29020807995505 %\n",
      "3100\n",
      "[2834.71752416]\n"
     ]
    }
   ],
   "source": [
    "# GradientBoostingRegressor\n",
    "\n",
    "modelGBR.fit(X_test, y_test)\n",
    "# print(sorted(modelGBR.feature_importances_, reverse=True)) \n",
    "\n",
    "# plot graph of feature importances for better visualization\n",
    "feat_importances = pd.Series(modelGBR.feature_importances_, index=X.columns)\n",
    "feat_importances.nlargest(15).plot(kind='barh')\n",
    "plt.show()\n",
    "\n",
    "print( 'Base on X_train, y_train :', modelGBR.score(X_train,y_train)*100, '%')\n",
    "print('Base on X, y (all data tested) :', modelGBR.score(X,y)*100, '%')\n",
    "print(y_test.iloc[1])\n",
    "print(modelGBR.predict([X_test.iloc[1]]))"
   ]
  },
  {
   "cell_type": "markdown",
   "metadata": {},
   "source": [
    "<h4> 3d. Brief Summary</h4>\n",
    "\n",
    "\n",
    "- 1. Based on Cross Validation usin 5 kFold, Random Forest Regressor has the best Score.\n",
    "- 2. After checking with 90% train - 10% test, all model has good result, more than 90% score accuracy.\n",
    "- 3. After checking with 10% train - 90% test, <strong>Random Forest Regressor</strong> has the best Score with >76% accuracy, this model approves that it is not overfitting, and it can make good estimation though the data train is less.\n",
    "- 4. Then the selected model for estimation is <strong>Random Forest Regressor</strong> (with those Parameters as above)\n",
    "  \n",
    "   "
   ]
  },
  {
   "cell_type": "code",
   "execution_count": 39,
   "metadata": {},
   "outputs": [
    {
     "name": "stdout",
     "output_type": "stream",
     "text": [
      "Int64Index([7621, 5849, 4325, 8205,   66,  183, 3909,  567, 8012,   39, 7370,\n",
      "             728, 1611, 7914, 7125],\n",
      "           dtype='int64')\n"
     ]
    },
    {
     "data": {
      "image/png": "[encoded data removed]",
      "text/plain": [
       "<Figure size 720x576 with 1 Axes>"
      ]
     },
     "metadata": {
      "needs_background": "light"
     },
     "output_type": "display_data"
    },
    {
     "data": {
      "text/html": [
       "<div>\n",
       "<style scoped>\n",
       "    .dataframe tbody tr th:only-of-type {\n",
       "        vertical-align: middle;\n",
       "    }\n",
       "\n",
       "    .dataframe tbody tr th {\n",
       "        vertical-align: top;\n",
       "    }\n",
       "\n",
       "    .dataframe thead th {\n",
       "        text-align: right;\n",
       "    }\n",
       "</style>\n",
       "<table border=\"1\" class=\"dataframe\">\n",
       "  <thead>\n",
       "    <tr style=\"text-align: right;\">\n",
       "      <th></th>\n",
       "      <th>car</th>\n",
       "      <th>model</th>\n",
       "      <th>engV2</th>\n",
       "      <th>carClass</th>\n",
       "      <th>year</th>\n",
       "      <th>mileage</th>\n",
       "      <th>price</th>\n",
       "      <th>pred</th>\n",
       "      <th>diff</th>\n",
       "    </tr>\n",
       "  </thead>\n",
       "  <tbody>\n",
       "    <tr>\n",
       "      <th>7621</th>\n",
       "      <td>Bentley</td>\n",
       "      <td>Mulsanne</td>\n",
       "      <td>6.75</td>\n",
       "      <td>4</td>\n",
       "      <td>2016</td>\n",
       "      <td>0</td>\n",
       "      <td>547800.0</td>\n",
       "      <td>412058.890000</td>\n",
       "      <td>135741.110000</td>\n",
       "    </tr>\n",
       "    <tr>\n",
       "      <th>5849</th>\n",
       "      <td>Mercedes-Benz</td>\n",
       "      <td>G 500</td>\n",
       "      <td>5.00</td>\n",
       "      <td>3</td>\n",
       "      <td>2012</td>\n",
       "      <td>37</td>\n",
       "      <td>300000.0</td>\n",
       "      <td>191817.336326</td>\n",
       "      <td>108182.663674</td>\n",
       "    </tr>\n",
       "    <tr>\n",
       "      <th>4325</th>\n",
       "      <td>Mercedes-Benz</td>\n",
       "      <td>S 600</td>\n",
       "      <td>6.00</td>\n",
       "      <td>3</td>\n",
       "      <td>2011</td>\n",
       "      <td>68</td>\n",
       "      <td>300000.0</td>\n",
       "      <td>215842.078809</td>\n",
       "      <td>84157.921191</td>\n",
       "    </tr>\n",
       "    <tr>\n",
       "      <th>8205</th>\n",
       "      <td>Land Rover</td>\n",
       "      <td>Range Rover</td>\n",
       "      <td>5.00</td>\n",
       "      <td>3</td>\n",
       "      <td>2016</td>\n",
       "      <td>0</td>\n",
       "      <td>285000.0</td>\n",
       "      <td>210565.305200</td>\n",
       "      <td>74434.694800</td>\n",
       "    </tr>\n",
       "    <tr>\n",
       "      <th>66</th>\n",
       "      <td>Toyota</td>\n",
       "      <td>Land Cruiser 200</td>\n",
       "      <td>4.50</td>\n",
       "      <td>2</td>\n",
       "      <td>2016</td>\n",
       "      <td>0</td>\n",
       "      <td>195000.0</td>\n",
       "      <td>124152.502404</td>\n",
       "      <td>70847.497596</td>\n",
       "    </tr>\n",
       "    <tr>\n",
       "      <th>183</th>\n",
       "      <td>Toyota</td>\n",
       "      <td>Land Cruiser 200</td>\n",
       "      <td>4.50</td>\n",
       "      <td>2</td>\n",
       "      <td>2016</td>\n",
       "      <td>0</td>\n",
       "      <td>195000.0</td>\n",
       "      <td>124152.502404</td>\n",
       "      <td>70847.497596</td>\n",
       "    </tr>\n",
       "    <tr>\n",
       "      <th>3909</th>\n",
       "      <td>Mercedes-Benz</td>\n",
       "      <td>G 63 AMG</td>\n",
       "      <td>5.50</td>\n",
       "      <td>3</td>\n",
       "      <td>2013</td>\n",
       "      <td>33</td>\n",
       "      <td>219900.0</td>\n",
       "      <td>167688.845367</td>\n",
       "      <td>52211.154633</td>\n",
       "    </tr>\n",
       "    <tr>\n",
       "      <th>567</th>\n",
       "      <td>Mercedes-Benz</td>\n",
       "      <td>S 63 AMG</td>\n",
       "      <td>5.50</td>\n",
       "      <td>3</td>\n",
       "      <td>2016</td>\n",
       "      <td>3</td>\n",
       "      <td>249999.0</td>\n",
       "      <td>201045.070889</td>\n",
       "      <td>48953.929111</td>\n",
       "    </tr>\n",
       "    <tr>\n",
       "      <th>8012</th>\n",
       "      <td>Mercedes-Benz</td>\n",
       "      <td>ML 63 AMG</td>\n",
       "      <td>5.50</td>\n",
       "      <td>3</td>\n",
       "      <td>2015</td>\n",
       "      <td>16</td>\n",
       "      <td>104000.0</td>\n",
       "      <td>152872.327154</td>\n",
       "      <td>48872.327154</td>\n",
       "    </tr>\n",
       "    <tr>\n",
       "      <th>39</th>\n",
       "      <td>Mercedes-Benz</td>\n",
       "      <td>Sprinter 324 ïàññ.</td>\n",
       "      <td>3.50</td>\n",
       "      <td>3</td>\n",
       "      <td>2013</td>\n",
       "      <td>19</td>\n",
       "      <td>200000.0</td>\n",
       "      <td>152332.210452</td>\n",
       "      <td>47667.789548</td>\n",
       "    </tr>\n",
       "    <tr>\n",
       "      <th>7370</th>\n",
       "      <td>Ferrari</td>\n",
       "      <td>458 Italia</td>\n",
       "      <td>4.50</td>\n",
       "      <td>4</td>\n",
       "      <td>2012</td>\n",
       "      <td>12</td>\n",
       "      <td>205000.0</td>\n",
       "      <td>159476.589994</td>\n",
       "      <td>45523.410006</td>\n",
       "    </tr>\n",
       "    <tr>\n",
       "      <th>728</th>\n",
       "      <td>Land Rover</td>\n",
       "      <td>Range Rover Sport</td>\n",
       "      <td>5.00</td>\n",
       "      <td>3</td>\n",
       "      <td>2015</td>\n",
       "      <td>0</td>\n",
       "      <td>92000.0</td>\n",
       "      <td>136075.661299</td>\n",
       "      <td>44075.661299</td>\n",
       "    </tr>\n",
       "    <tr>\n",
       "      <th>7914</th>\n",
       "      <td>Bentley</td>\n",
       "      <td>Bentayga</td>\n",
       "      <td>6.00</td>\n",
       "      <td>4</td>\n",
       "      <td>2016</td>\n",
       "      <td>0</td>\n",
       "      <td>499999.0</td>\n",
       "      <td>456174.786286</td>\n",
       "      <td>43824.213714</td>\n",
       "    </tr>\n",
       "    <tr>\n",
       "      <th>1611</th>\n",
       "      <td>Bentley</td>\n",
       "      <td>Bentayga</td>\n",
       "      <td>6.00</td>\n",
       "      <td>4</td>\n",
       "      <td>2016</td>\n",
       "      <td>0</td>\n",
       "      <td>499999.0</td>\n",
       "      <td>456174.786286</td>\n",
       "      <td>43824.213714</td>\n",
       "    </tr>\n",
       "    <tr>\n",
       "      <th>7125</th>\n",
       "      <td>Mercedes-Benz</td>\n",
       "      <td>V 250</td>\n",
       "      <td>2.20</td>\n",
       "      <td>3</td>\n",
       "      <td>2016</td>\n",
       "      <td>0</td>\n",
       "      <td>102800.0</td>\n",
       "      <td>59088.289841</td>\n",
       "      <td>43711.710159</td>\n",
       "    </tr>\n",
       "  </tbody>\n",
       "</table>\n",
       "</div>"
      ],
      "text/plain": [
       "                car               model  engV2  carClass  year  mileage  \\\n",
       "7621        Bentley            Mulsanne   6.75         4  2016        0   \n",
       "5849  Mercedes-Benz               G 500   5.00         3  2012       37   \n",
       "4325  Mercedes-Benz               S 600   6.00         3  2011       68   \n",
       "8205     Land Rover         Range Rover   5.00         3  2016        0   \n",
       "66           Toyota    Land Cruiser 200   4.50         2  2016        0   \n",
       "183          Toyota    Land Cruiser 200   4.50         2  2016        0   \n",
       "3909  Mercedes-Benz            G 63 AMG   5.50         3  2013       33   \n",
       "567   Mercedes-Benz            S 63 AMG   5.50         3  2016        3   \n",
       "8012  Mercedes-Benz           ML 63 AMG   5.50         3  2015       16   \n",
       "39    Mercedes-Benz  Sprinter 324 ïàññ.   3.50         3  2013       19   \n",
       "7370        Ferrari          458 Italia   4.50         4  2012       12   \n",
       "728      Land Rover   Range Rover Sport   5.00         3  2015        0   \n",
       "7914        Bentley            Bentayga   6.00         4  2016        0   \n",
       "1611        Bentley            Bentayga   6.00         4  2016        0   \n",
       "7125  Mercedes-Benz               V 250   2.20         3  2016        0   \n",
       "\n",
       "         price           pred           diff  \n",
       "7621  547800.0  412058.890000  135741.110000  \n",
       "5849  300000.0  191817.336326  108182.663674  \n",
       "4325  300000.0  215842.078809   84157.921191  \n",
       "8205  285000.0  210565.305200   74434.694800  \n",
       "66    195000.0  124152.502404   70847.497596  \n",
       "183   195000.0  124152.502404   70847.497596  \n",
       "3909  219900.0  167688.845367   52211.154633  \n",
       "567   249999.0  201045.070889   48953.929111  \n",
       "8012  104000.0  152872.327154   48872.327154  \n",
       "39    200000.0  152332.210452   47667.789548  \n",
       "7370  205000.0  159476.589994   45523.410006  \n",
       "728    92000.0  136075.661299   44075.661299  \n",
       "7914  499999.0  456174.786286   43824.213714  \n",
       "1611  499999.0  456174.786286   43824.213714  \n",
       "7125  102800.0   59088.289841   43711.710159  "
      ]
     },
     "execution_count": 39,
     "metadata": {},
     "output_type": "execute_result"
    }
   ],
   "source": [
    "modelRFR.fit(X_train, y_train)\n",
    "priceVpred = df[['car', 'model', 'engV2', 'carClass', 'year', 'mileage', 'price']].copy()\n",
    "predRFR = modelRFR.predict(X)\n",
    "\n",
    "priceVpred ['pred'] = predRFR\n",
    "priceVpred ['diff'] = np.sqrt((priceVpred['pred']-priceVpred ['price'])**2)\n",
    "\n",
    "\n",
    "print(priceVpred['diff'].sort_values(ascending=False).head(15).index)\n",
    "plt.figure(figsize=(10,8))\n",
    "plt.plot(priceVpred.index, priceVpred['diff'], 'r.')\n",
    "plt.show()\n",
    "\n",
    "priceVpred.sort_values(ascending=False, by='diff').head(15)"
   ]
  },
  {
   "cell_type": "code",
   "execution_count": 41,
   "metadata": {},
   "outputs": [
    {
     "data": {
      "text/plain": [
       "car             Volkswagen\n",
       "price                 2200\n",
       "body                 vagon\n",
       "mileage                150\n",
       "engV                   1.6\n",
       "engType             Petrol\n",
       "registration           yes\n",
       "year                  1986\n",
       "model            Passat B2\n",
       "drive                front\n",
       "engV2                  1.6\n",
       "body2                vagon\n",
       "sizeCat         medium car\n",
       "carClass                 2\n",
       "drive2               front\n",
       "driveType              2wd\n",
       "big car                  0\n",
       "medium car               1\n",
       "small car                0\n",
       "2wd                      1\n",
       "4wd                      0\n",
       "Diesel                   0\n",
       "Gas                      0\n",
       "Other                    0\n",
       "Petrol                   1\n",
       "no                       0\n",
       "yes                      1\n",
       "Name: 9572, dtype: object"
      ]
     },
     "execution_count": 41,
     "metadata": {},
     "output_type": "execute_result"
    }
   ],
   "source": [
    "df.loc[9572]"
   ]
  },
  {
   "cell_type": "code",
   "execution_count": 32,
   "metadata": {
    "scrolled": false
   },
   "outputs": [
    {
     "data": {
      "text/html": [
       "<div>\n",
       "<style scoped>\n",
       "    .dataframe tbody tr th:only-of-type {\n",
       "        vertical-align: middle;\n",
       "    }\n",
       "\n",
       "    .dataframe tbody tr th {\n",
       "        vertical-align: top;\n",
       "    }\n",
       "\n",
       "    .dataframe thead th {\n",
       "        text-align: right;\n",
       "    }\n",
       "</style>\n",
       "<table border=\"1\" class=\"dataframe\">\n",
       "  <thead>\n",
       "    <tr style=\"text-align: right;\">\n",
       "      <th></th>\n",
       "      <th>car</th>\n",
       "      <th>model</th>\n",
       "      <th>engV2</th>\n",
       "      <th>carClass</th>\n",
       "      <th>year</th>\n",
       "      <th>mileage</th>\n",
       "      <th>price</th>\n",
       "      <th>pred</th>\n",
       "      <th>diff</th>\n",
       "    </tr>\n",
       "  </thead>\n",
       "  <tbody>\n",
       "    <tr>\n",
       "      <th>9571</th>\n",
       "      <td>Hyundai</td>\n",
       "      <td>Tucson</td>\n",
       "      <td>2.0</td>\n",
       "      <td>2</td>\n",
       "      <td>2011</td>\n",
       "      <td>140</td>\n",
       "      <td>14500.0</td>\n",
       "      <td>17200.936670</td>\n",
       "      <td>2700.936670</td>\n",
       "    </tr>\n",
       "    <tr>\n",
       "      <th>9572</th>\n",
       "      <td>Volkswagen</td>\n",
       "      <td>Passat B2</td>\n",
       "      <td>1.6</td>\n",
       "      <td>2</td>\n",
       "      <td>1986</td>\n",
       "      <td>150</td>\n",
       "      <td>2200.0</td>\n",
       "      <td>3189.106727</td>\n",
       "      <td>989.106727</td>\n",
       "    </tr>\n",
       "    <tr>\n",
       "      <th>9573</th>\n",
       "      <td>Mercedes-Benz</td>\n",
       "      <td>ML 350</td>\n",
       "      <td>3.5</td>\n",
       "      <td>3</td>\n",
       "      <td>2008</td>\n",
       "      <td>180</td>\n",
       "      <td>18500.0</td>\n",
       "      <td>21159.489779</td>\n",
       "      <td>2659.489779</td>\n",
       "    </tr>\n",
       "    <tr>\n",
       "      <th>9574</th>\n",
       "      <td>Lexus</td>\n",
       "      <td>ES 350</td>\n",
       "      <td>3.5</td>\n",
       "      <td>3</td>\n",
       "      <td>2008</td>\n",
       "      <td>150</td>\n",
       "      <td>16999.0</td>\n",
       "      <td>16193.021155</td>\n",
       "      <td>805.978845</td>\n",
       "    </tr>\n",
       "    <tr>\n",
       "      <th>9575</th>\n",
       "      <td>Audi</td>\n",
       "      <td>Q7</td>\n",
       "      <td>3.6</td>\n",
       "      <td>2</td>\n",
       "      <td>2007</td>\n",
       "      <td>71</td>\n",
       "      <td>22500.0</td>\n",
       "      <td>20885.722814</td>\n",
       "      <td>1614.277186</td>\n",
       "    </tr>\n",
       "  </tbody>\n",
       "</table>\n",
       "</div>"
      ],
      "text/plain": [
       "                car      model  engV2  carClass  year  mileage    price  \\\n",
       "9571        Hyundai     Tucson    2.0         2  2011      140  14500.0   \n",
       "9572     Volkswagen  Passat B2    1.6         2  1986      150   2200.0   \n",
       "9573  Mercedes-Benz     ML 350    3.5         3  2008      180  18500.0   \n",
       "9574          Lexus     ES 350    3.5         3  2008      150  16999.0   \n",
       "9575           Audi         Q7    3.6         2  2007       71  22500.0   \n",
       "\n",
       "              pred         diff  \n",
       "9571  17200.936670  2700.936670  \n",
       "9572   3189.106727   989.106727  \n",
       "9573  21159.489779  2659.489779  \n",
       "9574  16193.021155   805.978845  \n",
       "9575  20885.722814  1614.277186  "
      ]
     },
     "execution_count": 32,
     "metadata": {},
     "output_type": "execute_result"
    }
   ],
   "source": [
    "priceVpred.tail()"
   ]
  },
  {
   "cell_type": "markdown",
   "metadata": {},
   "source": [
    "<h3> Saving the prediction model"
   ]
  },
  {
   "cell_type": "code",
   "execution_count": 33,
   "metadata": {},
   "outputs": [
    {
     "data": {
      "text/plain": [
       "RandomForestRegressor(bootstrap=True, criterion='mse', max_depth=10,\n",
       "                      max_features=7, max_leaf_nodes=900,\n",
       "                      min_impurity_decrease=0.0, min_impurity_split=None,\n",
       "                      min_samples_leaf=1, min_samples_split=2,\n",
       "                      min_weight_fraction_leaf=0.0, n_estimators=100,\n",
       "                      n_jobs=None, oob_score=False, random_state=190, verbose=0,\n",
       "                      warm_start=False)"
      ]
     },
     "execution_count": 33,
     "metadata": {},
     "output_type": "execute_result"
    }
   ],
   "source": [
    "import joblib\n",
    "\n",
    "modelRFRsave = RandomForestRegressor(n_estimators=100, random_state=190, max_features=7, max_depth=10, max_leaf_nodes=900)\n",
    "modelRFRsave.fit(X_train, y_train)\n",
    "\n",
    "# joblib.dump(modelRFRsave, 'modelmobil1')"
   ]
  },
  {
   "cell_type": "code",
   "execution_count": 34,
   "metadata": {},
   "outputs": [
    {
     "data": {
      "text/plain": [
       "array([15657.10330838])"
      ]
     },
     "execution_count": 34,
     "metadata": {},
     "output_type": "execute_result"
    }
   ],
   "source": [
    "modelRFRsave.predict([[68, 2010, 2.5, 1, 0, 1, 0, 0, 1, 0, 1, 0, 0, 0, 1]])"
   ]
  },
  {
   "cell_type": "code",
   "execution_count": 35,
   "metadata": {
    "scrolled": true
   },
   "outputs": [
    {
     "data": {
      "text/html": [
       "<div>\n",
       "<style scoped>\n",
       "    .dataframe tbody tr th:only-of-type {\n",
       "        vertical-align: middle;\n",
       "    }\n",
       "\n",
       "    .dataframe tbody tr th {\n",
       "        vertical-align: top;\n",
       "    }\n",
       "\n",
       "    .dataframe thead th {\n",
       "        text-align: right;\n",
       "    }\n",
       "</style>\n",
       "<table border=\"1\" class=\"dataframe\">\n",
       "  <thead>\n",
       "    <tr style=\"text-align: right;\">\n",
       "      <th></th>\n",
       "      <th>price</th>\n",
       "      <th>mileage</th>\n",
       "      <th>engV</th>\n",
       "      <th>year</th>\n",
       "      <th>engV2</th>\n",
       "      <th>carClass</th>\n",
       "      <th>big car</th>\n",
       "      <th>medium car</th>\n",
       "      <th>small car</th>\n",
       "      <th>2wd</th>\n",
       "      <th>4wd</th>\n",
       "      <th>Diesel</th>\n",
       "      <th>Gas</th>\n",
       "      <th>Other</th>\n",
       "      <th>Petrol</th>\n",
       "      <th>no</th>\n",
       "      <th>yes</th>\n",
       "    </tr>\n",
       "  </thead>\n",
       "  <tbody>\n",
       "    <tr>\n",
       "      <th>count</th>\n",
       "      <td>9254.000000</td>\n",
       "      <td>9254.000000</td>\n",
       "      <td>9254.000000</td>\n",
       "      <td>9254.000000</td>\n",
       "      <td>9254.000000</td>\n",
       "      <td>9254.000000</td>\n",
       "      <td>9254.000000</td>\n",
       "      <td>9254.000000</td>\n",
       "      <td>9254.000000</td>\n",
       "      <td>9254.000000</td>\n",
       "      <td>9254.000000</td>\n",
       "      <td>9254.000000</td>\n",
       "      <td>9254.000000</td>\n",
       "      <td>9254.000000</td>\n",
       "      <td>9254.000000</td>\n",
       "      <td>9254.000000</td>\n",
       "      <td>9254.000000</td>\n",
       "    </tr>\n",
       "    <tr>\n",
       "      <th>mean</th>\n",
       "      <td>16038.639848</td>\n",
       "      <td>140.588935</td>\n",
       "      <td>2.552939</td>\n",
       "      <td>2006.543657</td>\n",
       "      <td>2.206412</td>\n",
       "      <td>1.701643</td>\n",
       "      <td>0.136590</td>\n",
       "      <td>0.295440</td>\n",
       "      <td>0.567971</td>\n",
       "      <td>0.737951</td>\n",
       "      <td>0.262049</td>\n",
       "      <td>0.308299</td>\n",
       "      <td>0.183272</td>\n",
       "      <td>0.046142</td>\n",
       "      <td>0.462287</td>\n",
       "      <td>0.059542</td>\n",
       "      <td>0.940458</td>\n",
       "    </tr>\n",
       "    <tr>\n",
       "      <th>std</th>\n",
       "      <td>24162.175761</td>\n",
       "      <td>98.148095</td>\n",
       "      <td>5.504704</td>\n",
       "      <td>6.945324</td>\n",
       "      <td>0.951877</td>\n",
       "      <td>0.718082</td>\n",
       "      <td>0.343432</td>\n",
       "      <td>0.456265</td>\n",
       "      <td>0.495385</td>\n",
       "      <td>0.439773</td>\n",
       "      <td>0.439773</td>\n",
       "      <td>0.461816</td>\n",
       "      <td>0.386910</td>\n",
       "      <td>0.209804</td>\n",
       "      <td>0.498603</td>\n",
       "      <td>0.236649</td>\n",
       "      <td>0.236649</td>\n",
       "    </tr>\n",
       "    <tr>\n",
       "      <th>min</th>\n",
       "      <td>259.350000</td>\n",
       "      <td>0.000000</td>\n",
       "      <td>0.100000</td>\n",
       "      <td>1959.000000</td>\n",
       "      <td>0.100000</td>\n",
       "      <td>1.000000</td>\n",
       "      <td>0.000000</td>\n",
       "      <td>0.000000</td>\n",
       "      <td>0.000000</td>\n",
       "      <td>0.000000</td>\n",
       "      <td>0.000000</td>\n",
       "      <td>0.000000</td>\n",
       "      <td>0.000000</td>\n",
       "      <td>0.000000</td>\n",
       "      <td>0.000000</td>\n",
       "      <td>0.000000</td>\n",
       "      <td>0.000000</td>\n",
       "    </tr>\n",
       "    <tr>\n",
       "      <th>25%</th>\n",
       "      <td>5405.000000</td>\n",
       "      <td>72.000000</td>\n",
       "      <td>1.600000</td>\n",
       "      <td>2004.000000</td>\n",
       "      <td>1.600000</td>\n",
       "      <td>1.000000</td>\n",
       "      <td>0.000000</td>\n",
       "      <td>0.000000</td>\n",
       "      <td>0.000000</td>\n",
       "      <td>0.000000</td>\n",
       "      <td>0.000000</td>\n",
       "      <td>0.000000</td>\n",
       "      <td>0.000000</td>\n",
       "      <td>0.000000</td>\n",
       "      <td>0.000000</td>\n",
       "      <td>0.000000</td>\n",
       "      <td>1.000000</td>\n",
       "    </tr>\n",
       "    <tr>\n",
       "      <th>50%</th>\n",
       "      <td>9500.000000</td>\n",
       "      <td>129.000000</td>\n",
       "      <td>2.000000</td>\n",
       "      <td>2008.000000</td>\n",
       "      <td>2.000000</td>\n",
       "      <td>2.000000</td>\n",
       "      <td>0.000000</td>\n",
       "      <td>0.000000</td>\n",
       "      <td>1.000000</td>\n",
       "      <td>1.000000</td>\n",
       "      <td>0.000000</td>\n",
       "      <td>0.000000</td>\n",
       "      <td>0.000000</td>\n",
       "      <td>0.000000</td>\n",
       "      <td>0.000000</td>\n",
       "      <td>0.000000</td>\n",
       "      <td>1.000000</td>\n",
       "    </tr>\n",
       "    <tr>\n",
       "      <th>75%</th>\n",
       "      <td>17000.000000</td>\n",
       "      <td>195.000000</td>\n",
       "      <td>2.500000</td>\n",
       "      <td>2012.000000</td>\n",
       "      <td>2.500000</td>\n",
       "      <td>2.000000</td>\n",
       "      <td>0.000000</td>\n",
       "      <td>1.000000</td>\n",
       "      <td>1.000000</td>\n",
       "      <td>1.000000</td>\n",
       "      <td>1.000000</td>\n",
       "      <td>1.000000</td>\n",
       "      <td>0.000000</td>\n",
       "      <td>0.000000</td>\n",
       "      <td>1.000000</td>\n",
       "      <td>0.000000</td>\n",
       "      <td>1.000000</td>\n",
       "    </tr>\n",
       "    <tr>\n",
       "      <th>max</th>\n",
       "      <td>547800.000000</td>\n",
       "      <td>999.000000</td>\n",
       "      <td>99.990000</td>\n",
       "      <td>2016.000000</td>\n",
       "      <td>7.000000</td>\n",
       "      <td>4.000000</td>\n",
       "      <td>1.000000</td>\n",
       "      <td>1.000000</td>\n",
       "      <td>1.000000</td>\n",
       "      <td>1.000000</td>\n",
       "      <td>1.000000</td>\n",
       "      <td>1.000000</td>\n",
       "      <td>1.000000</td>\n",
       "      <td>1.000000</td>\n",
       "      <td>1.000000</td>\n",
       "      <td>1.000000</td>\n",
       "      <td>1.000000</td>\n",
       "    </tr>\n",
       "  </tbody>\n",
       "</table>\n",
       "</div>"
      ],
      "text/plain": [
       "               price      mileage         engV         year        engV2  \\\n",
       "count    9254.000000  9254.000000  9254.000000  9254.000000  9254.000000   \n",
       "mean    16038.639848   140.588935     2.552939  2006.543657     2.206412   \n",
       "std     24162.175761    98.148095     5.504704     6.945324     0.951877   \n",
       "min       259.350000     0.000000     0.100000  1959.000000     0.100000   \n",
       "25%      5405.000000    72.000000     1.600000  2004.000000     1.600000   \n",
       "50%      9500.000000   129.000000     2.000000  2008.000000     2.000000   \n",
       "75%     17000.000000   195.000000     2.500000  2012.000000     2.500000   \n",
       "max    547800.000000   999.000000    99.990000  2016.000000     7.000000   \n",
       "\n",
       "          carClass      big car   medium car    small car          2wd  \\\n",
       "count  9254.000000  9254.000000  9254.000000  9254.000000  9254.000000   \n",
       "mean      1.701643     0.136590     0.295440     0.567971     0.737951   \n",
       "std       0.718082     0.343432     0.456265     0.495385     0.439773   \n",
       "min       1.000000     0.000000     0.000000     0.000000     0.000000   \n",
       "25%       1.000000     0.000000     0.000000     0.000000     0.000000   \n",
       "50%       2.000000     0.000000     0.000000     1.000000     1.000000   \n",
       "75%       2.000000     0.000000     1.000000     1.000000     1.000000   \n",
       "max       4.000000     1.000000     1.000000     1.000000     1.000000   \n",
       "\n",
       "               4wd       Diesel          Gas        Other       Petrol  \\\n",
       "count  9254.000000  9254.000000  9254.000000  9254.000000  9254.000000   \n",
       "mean      0.262049     0.308299     0.183272     0.046142     0.462287   \n",
       "std       0.439773     0.461816     0.386910     0.209804     0.498603   \n",
       "min       0.000000     0.000000     0.000000     0.000000     0.000000   \n",
       "25%       0.000000     0.000000     0.000000     0.000000     0.000000   \n",
       "50%       0.000000     0.000000     0.000000     0.000000     0.000000   \n",
       "75%       1.000000     1.000000     0.000000     0.000000     1.000000   \n",
       "max       1.000000     1.000000     1.000000     1.000000     1.000000   \n",
       "\n",
       "                no          yes  \n",
       "count  9254.000000  9254.000000  \n",
       "mean      0.059542     0.940458  \n",
       "std       0.236649     0.236649  \n",
       "min       0.000000     0.000000  \n",
       "25%       0.000000     1.000000  \n",
       "50%       0.000000     1.000000  \n",
       "75%       0.000000     1.000000  \n",
       "max       1.000000     1.000000  "
      ]
     },
     "execution_count": 35,
     "metadata": {},
     "output_type": "execute_result"
    }
   ],
   "source": [
    "df.describe()"
   ]
  },
  {
   "cell_type": "markdown",
   "metadata": {},
   "source": [
    "<h4>Save Clean Data"
   ]
  },
  {
   "cell_type": "code",
   "execution_count": 36,
   "metadata": {},
   "outputs": [],
   "source": [
    "# dfClean = df[['car','price','mileage','engType','registration','year','model','drive2',\n",
    "#              'engV2','body2','sizeCat','carClass','driveType']].copy()\n",
    "# dfClean.to_csv('dataclean')"
   ]
  }
 ],
 "metadata": {
  "kernelspec": {
   "display_name": "Python 3",
   "language": "python",
   "name": "python3"
  },
  "language_info": {
   "codemirror_mode": {
    "name": "ipython",
    "version": 3
   },
   "file_extension": ".py",
   "mimetype": "text/x-python",
   "name": "python",
   "nbconvert_exporter": "python",
   "pygments_lexer": "ipython3",
   "version": "3.7.3"
  }
 },
 "nbformat": 4,
 "nbformat_minor": 2
}
